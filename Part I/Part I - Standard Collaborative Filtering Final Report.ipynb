{
 "cells": [
  {
   "cell_type": "markdown",
   "metadata": {},
   "source": [
    "# Project Part I - Standard Collaborative Filtering\n"
   ]
  },
  {
   "cell_type": "markdown",
   "metadata": {},
   "source": [
    "# 0. Introduction"
   ]
  },
  {
   "cell_type": "markdown",
   "metadata": {},
   "source": [
    "In this report, I will walk you through my work process exploring the traditional collaborative filtering. I will include the steps to run my code and interpretation of the visualizations."
   ]
  },
  {
   "cell_type": "markdown",
   "metadata": {},
   "source": [
    "#### The Data Set\n",
    "The dataset I am analyzing is from the [KKBox Music Recommendation Challenge Kaggle Competition](https://www.kaggle.com/c/kkbox-music-recommendation-challenge). For part 1, I am focusing my analysis on three variables in train.csv: user id, song id, and target, where:\n",
    "- target=1: there are recurring listening event(s) triggered within a month after the user’s very first observable listening event. In the interpretation of this practice, it indicates a \"like\".\n",
    "- target=0: otherwise"
   ]
  },
  {
   "cell_type": "markdown",
   "metadata": {},
   "source": [
    "#### Thinking from a business perspective\n",
    "\n",
    "From the data, I would like to construct a model to predict the likelihood that a user will listen to a song again after hearing it for the first time.\n",
    "\n",
    "From a business standpoint, predicting and playing songs to users that they are most likely to enjoy and come back to listen to again will allow the business to increase user retention and thus revenue. With enough accuracy, the data would also inform other core metrics such as budgets for future initiatives, operational decisions such as what infrastructure is necessary to support the number of users during a specific period of time, and surface new marketing strategies such as advertising a music discovery feature to listeners.\n",
    "\n",
    "On another hand, the model also predicts whether a user will churn. For example, if a user's predictions are all very low, then it's high chance that the user will churn. Identifying who is going to churn and when will alert the business to implement strategies to avoid such churns.\n",
    "\n",
    "To achieve the above goals, I need to optimize the accuracy of my prediction model which will be measured by metrics such as overall accuracy, AUC, etc. However, I also want to ensure that the recommendations my model makes are not limited to the most popular items. For example, I want to give the users more, perhaps lesser-known options in order to create a more unique value proposition for the business. Therefore, I may need to trade off between accuracy and coverage to achieve the optimal result. \n",
    "\n"
   ]
  },
  {
   "cell_type": "markdown",
   "metadata": {},
   "source": [
    "#### The Approaches\n",
    "\n",
    "In Project Part I, I will be exploring the traditional collaborative filtering and develop my own way of measuring its performance. The two common approaches are as follows:\n",
    "- memory based: predictions for a specific item are based on similar items' ratings (item-based). When assessing the relationship between items, we have the following similarity measures: \n",
    "   - Pearson Correlation similarity\n",
    "   - Cosine similarity \n",
    "   - Jaccard (excluded for this practice as it's for implicit data)\n",
    "- model based: predictions are inferred from a model that is fit to approximate the data points (parameters will be learned from the training data set). In this practice, we will be exploring the matrix factorization approach.\n",
    "\n",
    "Since collaborative filtering is an established technique, I want to use it as a reference for comparison with my original methods in Part II, and I will be using a public package for Part I. My first attempt was to use [Surprise](http://surpriselib.com) as it's one of the most popular packages for recommender systems implemented in python. However, after reading the documentation, it turns out that Surprise was not designed to support binary rating scale. Therefore, I decided on using [Graphlab](https://turi.com/products/create/docs/graphlab.toolkits.recommender.html), where I used _popularity-recommender_ as my baseline model, _item-similarity-recommender_ as my memory-based model and _ranking-factorization-recommender_ as my model-based model.\n",
    "\n",
    "To make test statistics (accuracy, precision, recall, auc and coverage) comparable between the three models, I did not use the builtin _evaluate-precision-recall_ provided by GraphLab and instead built my own.\n",
    "- accuracy: percentage of accurate predictions\n",
    "- precision: true positive predictions over all positive predictions\n",
    "- recall: true positive predictions over all relevant items\n",
    "- auc: the area under the ROC curve \n",
    "- coverage: how well our recommendation set (items) represent the whole available item sets\n",
    "\n",
    "Next, I will walk though the detailed code and my findings and conclusions at the end of this notebook."
   ]
  },
  {
   "cell_type": "markdown",
   "metadata": {},
   "source": [
    "#### 0.1 Set Up"
   ]
  },
  {
   "cell_type": "code",
   "execution_count": 2,
   "metadata": {
    "collapsed": true
   },
   "outputs": [],
   "source": [
    "import pandas as pd\n",
    "import numpy as np\n",
    "import graphlab\n",
    "from graphlab import recommender as gl\n",
    "import seaborn as sns\n",
    "import matplotlib.pyplot as plt\n",
    "import random\n",
    "import time\n",
    "%matplotlib inline\n",
    "sns.set(style='whitegrid')"
   ]
  },
  {
   "cell_type": "markdown",
   "metadata": {},
   "source": [
    "# 1. Data Preparation "
   ]
  },
  {
   "cell_type": "markdown",
   "metadata": {},
   "source": [
    "#### 1.1 Loading Data\n",
    "For Project Part I, I am only focusing on the three fields: user_id, item_id and rating (1 or 0)"
   ]
  },
  {
   "cell_type": "code",
   "execution_count": 3,
   "metadata": {
    "collapsed": true
   },
   "outputs": [],
   "source": [
    "df=pd.read_csv(\"train.csv\")\n",
    "df= df[[\"msno\",\"song_id\",\"target\"]]\n",
    "df[\"msno\"]=df[\"msno\"].astype(str)\n",
    "df[\"song_id\"]=df[\"song_id\"].astype(str)\n",
    "df.columns = ['user_id', 'item_id',\"rating\"]"
   ]
  },
  {
   "cell_type": "markdown",
   "metadata": {},
   "source": [
    "#### 1.2 Data Exploration\n",
    "Here is a basic overview of our dataset"
   ]
  },
  {
   "cell_type": "code",
   "execution_count": 4,
   "metadata": {},
   "outputs": [
    {
     "name": "stdout",
     "output_type": "stream",
     "text": [
      "# of users: 30755\n",
      "# of items: 359966\n",
      "# of likes: 3714656\n",
      "# of rows: 7377418\n"
     ]
    }
   ],
   "source": [
    "num_of_items=df.item_id.nunique()\n",
    "num_of_users=df.user_id.nunique()\n",
    "num_liked=df.loc[df[\"rating\"]==1].shape[0]\n",
    "print\"# of users:\",num_of_users\n",
    "print\"# of items:\",num_of_items\n",
    "print\"# of likes:\",num_liked\n",
    "print\"# of rows:\", df.shape[0]"
   ]
  },
  {
   "cell_type": "markdown",
   "metadata": {},
   "source": [
    "Usually, there are more users than items but in this case there are more items (~10 times more). The ratings are somewhat balanced as 51% user-item pair indicates a \"like\". To check the sparsity of the data, I can calculate its density as follows:"
   ]
  },
  {
   "cell_type": "code",
   "execution_count": 5,
   "metadata": {},
   "outputs": [
    {
     "name": "stdout",
     "output_type": "stream",
     "text": [
      "Original Density: 0.000666388014772\n"
     ]
    }
   ],
   "source": [
    "def cal_density(dataframe):\n",
    "    num_item=dataframe.item_id.nunique()\n",
    "    num_user=dataframe.user_id.nunique()\n",
    "    den=float(dataframe.shape[0])/float((num_item*num_user))\n",
    "    return den\n",
    "print 'Original Density:',cal_density(df)"
   ]
  },
  {
   "cell_type": "markdown",
   "metadata": {},
   "source": [
    "Only 0.067% of user-item pairs are rated - the data is very sparse.\n",
    "To investigate further, I am interested in the frequency an item is rated and how it is distributed, i.e. if the long-tail problem exists"
   ]
  },
  {
   "cell_type": "code",
   "execution_count": 6,
   "metadata": {
    "collapsed": true
   },
   "outputs": [],
   "source": [
    "item_counts=df.item_id.value_counts().reset_index().rename(\n",
    "    columns={'index': 'item_id', \"item_id\": 'count'})\n",
    "user_counts=df.user_id.value_counts().reset_index().rename(\n",
    "    columns={'index': 'user_id', \"user_id\": 'count'})"
   ]
  },
  {
   "cell_type": "code",
   "execution_count": 7,
   "metadata": {},
   "outputs": [
    {
     "data": {
      "image/png": "[encoded data removed]",
      "text/plain": [
       "<matplotlib.figure.Figure at 0x1208586d0>"
      ]
     },
     "metadata": {},
     "output_type": "display_data"
    }
   ],
   "source": [
    "# plot histogram for counts\n",
    "ax=sns.barplot(x=\"item_id\",y=\"count\",data=item_counts[:1000])#adding a limit here to avoid longer runtime"
   ]
  },
  {
   "cell_type": "markdown",
   "metadata": {
    "collapsed": true
   },
   "source": [
    "Given that the item_counts table is ordered (descending) and has 360,000 items, we can infer that the long tail problem exists heavily. In fact, to check number of items that were only rated once (or users only rated one item):"
   ]
  },
  {
   "cell_type": "code",
   "execution_count": 8,
   "metadata": {},
   "outputs": [
    {
     "name": "stdout",
     "output_type": "stream",
     "text": [
      "% of items rated once: 0.463282643361\n",
      "% of users rated once: 0.0303040156072\n"
     ]
    }
   ],
   "source": [
    "print \"% of items rated once:\",float(item_counts[item_counts[\"count\"]==1].shape[0])/float(num_of_items)\n",
    "print \"% of users rated once:\",float(user_counts[user_counts[\"count\"]==1].shape[0])/float(num_of_users)"
   ]
  },
  {
   "cell_type": "markdown",
   "metadata": {},
   "source": [
    "Nearly half of the items were rated only once and 3% of the users have only rated 1 item. This reveals the cold-start problem which traditional CF does not solve. I will take this into consideration when I am sampling the data for training our models."
   ]
  },
  {
   "cell_type": "markdown",
   "metadata": {},
   "source": [
    "# 2. Sampling Data\n",
    "\n",
    "As the density of the original data is 0.067%, I can not directly sample the data at random as it might result in a  recommendations with poor quality, due to the constraints of traditional CF. To solve this, I can increase the density of the data by restricting a minimum number of ratings an item and a user can have.\n",
    "\n",
    "Since excluding a certain items might affect the number of ratings of the existing users, I came up with an iterative approach to continuously exclude items/users until all items and users satisfy the minimum number of ratings. \n",
    "\n"
   ]
  },
  {
   "cell_type": "code",
   "execution_count": 9,
   "metadata": {},
   "outputs": [
    {
     "name": "stdout",
     "output_type": "stream",
     "text": [
      "**iteration 1 starts!**\n",
      "num of qualified items: 45874\n",
      "num of qualified users: 25371\n",
      "\n",
      "**iteration 2 starts!**\n",
      "num of qualified items: 45760\n",
      "num of qualified users: 24926\n",
      "\n",
      "**iteration 3 starts!**\n",
      "num of qualified items: 45655\n",
      "num of qualified users: 24923\n",
      "\n",
      "**iteration 4 starts!**\n",
      "num of qualified items: 45653\n",
      "num of qualified users: 24922\n",
      "\n",
      "**iteration 5 starts!**\n",
      "num of qualified items: 45653\n",
      "num of qualified users: 24922\n",
      "\n",
      "updated density: 0.00569694297236\n"
     ]
    }
   ],
   "source": [
    "#remove rare-rated items/users (reduce cold-start problem)\n",
    "def exclude_coldstart(dataframe,min_user_per_item_thr,min_item_per_user_thr):\n",
    "    min_user_per_item=0\n",
    "    min_item_per_user=0\n",
    "    count=1\n",
    "    while min_user_per_item<min_user_per_item_thr and min_item_per_user<min_item_per_user_thr:\n",
    "\n",
    "        print \"**iteration\",count,\"starts!**\"\n",
    "        item_count=dataframe.groupby(\"item_id\").count().reset_index()\n",
    "        min_user_per_item=item_count[\"user_id\"].min()\n",
    "        item_qualify=item_count[item_count[\"user_id\"]>=min_user_per_item_thr]\n",
    "        item_list=item_qualify[\"item_id\"]\n",
    "        print \"num of qualified items:\", len(item_list)\n",
    "\n",
    "        user_count=dataframe.groupby(\"user_id\").count().reset_index()\n",
    "        min_item_per_user=user_count[\"item_id\"].min()\n",
    "        user_qualify=user_count[user_count[\"item_id\"]>=min_item_per_user_thr]\n",
    "        user_list=user_qualify[\"user_id\"]\n",
    "        print \"num of qualified users:\", len(user_list)\n",
    "        \n",
    "        dataframe=dataframe.loc[(dataframe['item_id'].isin(item_list))&(dataframe[\"user_id\"].isin(user_list))]\n",
    "        count+=1\n",
    "        print\n",
    "        \n",
    "    return dataframe\n",
    "#exclude users/items that have less than 15 ratings       \n",
    "df=exclude_coldstart(df,15,15)\n",
    "print \"updated density:\",cal_density(df)"
   ]
  },
  {
   "cell_type": "markdown",
   "metadata": {},
   "source": [
    "After gaining the updated df (we can see the density level has increased as desired), I construct a list with unique users and sample a percentage of users proportional to the length of this list:"
   ]
  },
  {
   "cell_type": "code",
   "execution_count": 10,
   "metadata": {
    "collapsed": true
   },
   "outputs": [],
   "source": [
    "item_set=df.item_id.unique().tolist()\n",
    "user_set=df.user_id.unique().tolist()\n",
    "\n",
    "perc_range=[0.01,0.1,0.25,0.50,0.75]\n",
    "samples=[]\n",
    "#construct a list of samples\n",
    "for i in perc_range:\n",
    "    sample_from_user=random.sample(user_set, int(i*len(user_set)))\n",
    "    df_sample=df.loc[(df['user_id'].isin(sample_from_user))]\n",
    "    samples.append(df_sample)"
   ]
  },
  {
   "cell_type": "markdown",
   "metadata": {},
   "source": [
    "Let's take a look at the number of unique items/users in each sample:"
   ]
  },
  {
   "cell_type": "code",
   "execution_count": 11,
   "metadata": {},
   "outputs": [
    {
     "name": "stdout",
     "output_type": "stream",
     "text": [
      "%users #items #users\n",
      "1 %  18393   249\n",
      "10 %  43238   2492\n",
      "25 %  45562   6230\n",
      "50 %  45653   12461\n",
      "75 %  45653   18691\n"
     ]
    }
   ],
   "source": [
    "print \"%users\",\"#items\",\"#users\"\n",
    "for i in range(0,len(samples)):\n",
    "    print int(perc_range[i]*100),\"% \",samples[i][\"item_id\"].nunique(),\" \",samples[i][\"user_id\"].nunique()"
   ]
  },
  {
   "cell_type": "markdown",
   "metadata": {},
   "source": [
    "As stated in the project instruction, we can start with a small sample for the analysis and I chose the first sample (at 1% user level) to continue."
   ]
  },
  {
   "cell_type": "markdown",
   "metadata": {},
   "source": [
    "#### 2.1 cross-validation set up\n",
    "Here, I construct a random split with 80% to be training set and 20% to be test set and this will be my cross-validation set up."
   ]
  },
  {
   "cell_type": "code",
   "execution_count": 12,
   "metadata": {},
   "outputs": [
    {
     "name": "stdout",
     "output_type": "stream",
     "text": [
      "sample density: 0.00599093657361\n",
      "# rows train 52210 # rows test 13059\n"
     ]
    }
   ],
   "source": [
    "sf_sample = graphlab.SFrame(data=samples[0])\n",
    "sf_train, sf_test = sf_sample.random_split(.8)\n",
    "print \"sample density:\",cal_density(samples[1])\n",
    "print \"# rows train\",len(sf_train), \"# rows test\",len(sf_test)"
   ]
  },
  {
   "cell_type": "markdown",
   "metadata": {},
   "source": [
    "# 3. A First Attempt on Collaborative Filtering\n",
    "Next, we start building the CF models!\n",
    "- For baseline model, I am using a popularity based model where each item's rating is dependant on its frequency in the user-item pairs. In the end, I will recommend the top-n most popular items to all users.\n",
    "- For item_based model, I set the pearson smilarity type and a default 64 top k nearest neightbors for calculating ratings.\n",
    "- For model_based model, I set the number of latent factors and regularization term to their default values, and indicate the rating scale is binary. I will also be using the stochastic gradient descent as my solver."
   ]
  },
  {
   "cell_type": "code",
   "execution_count": 13,
   "metadata": {},
   "outputs": [
    {
     "data": {
      "text/html": [
       "<pre>Recsys training: model = popularity</pre>"
      ],
      "text/plain": [
       "Recsys training: model = popularity"
      ]
     },
     "metadata": {},
     "output_type": "display_data"
    }
   ],
   "source": [
    "baseline= gl.popularity_recommender.create(sf_train, target='rating',verbose=False)"
   ]
  },
  {
   "cell_type": "code",
   "execution_count": 14,
   "metadata": {},
   "outputs": [
    {
     "data": {
      "text/html": [
       "<pre>Recsys training: model = item_similarity</pre>"
      ],
      "text/plain": [
       "Recsys training: model = item_similarity"
      ]
     },
     "metadata": {},
     "output_type": "display_data"
    }
   ],
   "source": [
    "item_based= gl.item_similarity_recommender.create(sf_train, target=\"rating\",similarity_type='pearson',verbose=False)"
   ]
  },
  {
   "cell_type": "code",
   "execution_count": 15,
   "metadata": {},
   "outputs": [
    {
     "data": {
      "text/html": [
       "<pre>Recsys training: model = ranking_factorization_recommender</pre>"
      ],
      "text/plain": [
       "Recsys training: model = ranking_factorization_recommender"
      ]
     },
     "metadata": {},
     "output_type": "display_data"
    }
   ],
   "source": [
    "model_based= gl.ranking_factorization_recommender.create(sf_train, target='rating',num_factors=32,regularization=1e-08,\n",
    "                                                 binary_target=True,\n",
    "                                                 solver = 'sgd',verbose=False)"
   ]
  },
  {
   "cell_type": "markdown",
   "metadata": {},
   "source": [
    "# 4. Evaluation Metrics\n",
    "\n",
    "So how did those model perform? Before answering that, I will need to construct the performance metrics as follows:"
   ]
  },
  {
   "cell_type": "code",
   "execution_count": 16,
   "metadata": {
    "collapsed": true
   },
   "outputs": [],
   "source": [
    "# This function calculates the accuracy\n",
    "# The inputs are two arrays: actual ratings and predicted ratings\n",
    "# The output is a list of three metrics: accuracy, precision and recall\n",
    "def cal_accuracy(rating,pred):\n",
    "    correct_count = 0\n",
    "    true_positive = 0\n",
    "    positive_pred = 0\n",
    "    positive_rating = 0\n",
    "    for i in range(len(rating)):\n",
    "        if pred[i] == rating[i]:\n",
    "            correct_count += 1.0\n",
    "        if rating[i] == 1 and pred[i] == 1:\n",
    "            true_positive +=  1.0\n",
    "        if pred[i] == 1:\n",
    "            positive_pred += 1.0\n",
    "        if rating[i] == 1:\n",
    "            positive_rating += 1.0\n",
    "    \n",
    "    accuracy = float(\"{0:.3f}\".format(correct_count / len(rating)))\n",
    "    #to avoid division by zero error\n",
    "    if positive_pred==0:\n",
    "        precision=0\n",
    "    else:\n",
    "        precision = float(\"{0:.3f}\".format(true_positive / positive_pred))\n",
    "    recall = float(\"{0:.3f}\".format(true_positive / positive_rating))\n",
    "    return [accuracy,precision,recall]\n"
   ]
  },
  {
   "cell_type": "code",
   "execution_count": 17,
   "metadata": {
    "collapsed": true
   },
   "outputs": [],
   "source": [
    "# This function calculates the area under ROC curve\n",
    "# The inputs are two arrays: actual ratings and predicted ratings\n",
    "# The output is the calculated auc result\n",
    "def cal_auc(rating, pred):\n",
    "    auc =  graphlab.evaluation.auc(rating, pred)\n",
    "    return auc"
   ]
  },
  {
   "cell_type": "code",
   "execution_count": 18,
   "metadata": {
    "collapsed": true
   },
   "outputs": [],
   "source": [
    "# This function calculates the catelog coverage \n",
    "# The inputs are: the model we trained, the test dataset and number of recommendations we make for each user\n",
    "# The output is a result of catelog coverage \n",
    "def cal_coverage(model,test,num_k):\n",
    "    recs= float(model.recommend(users=test['user_id'],k=num_k,items=test[\"item_id\"],verbose=False).to_dataframe().item_id.nunique())\n",
    "    all = float(test.to_dataframe().item_id.nunique())\n",
    "    return recs/all"
   ]
  },
  {
   "cell_type": "code",
   "execution_count": 19,
   "metadata": {
    "collapsed": true
   },
   "outputs": [],
   "source": [
    "# This function converts predicted probabilities to binary ratings and \n",
    "# evaulate and complie to a result output\n",
    "def evaluate(model,test,threshold,num_k):\n",
    "    model_pred=model.predict(test)\n",
    "    rating = test.select_column('rating')\n",
    "    binary_pred = [1 if i> threshold else 0 for i in model_pred]\n",
    "    result=[i for i in cal_accuracy(rating,binary_pred)]\n",
    "    result.append(float(\"{0:.3f}\".format(cal_auc(rating,model_pred))))\n",
    "    result.append(float(\"{0:.3f}\".format(cal_coverage(model,test,num_k))))\n",
    "    return result\n",
    "    "
   ]
  },
  {
   "cell_type": "markdown",
   "metadata": {},
   "source": [
    "Now let's evaluate the three models with a default threshold set as 0.5 and number of recommendations to be 20:"
   ]
  },
  {
   "cell_type": "code",
   "execution_count": 20,
   "metadata": {},
   "outputs": [
    {
     "name": "stdout",
     "output_type": "stream",
     "text": [
      "accuracy precision recall auc coverage\n",
      "[0.553, 0.579, 0.733, 0.546, 0.062]\n",
      "[0.574, 0.616, 0.633, 0.558, 0.107]\n",
      "[0.535, 0.792, 0.23, 0.633, 0.106]\n"
     ]
    }
   ],
   "source": [
    "baseline_result=evaluate(baseline,sf_test,0.5,20)\n",
    "item_result=evaluate(item_based,sf_test,0.5,20)\n",
    "model_result=evaluate(model_based,sf_test,0.5,20)\n",
    "\n",
    "print \"accuracy\",\"precision\",\"recall\",\"auc\",\"coverage\"\n",
    "print baseline_result\n",
    "print item_result\n",
    "print model_result"
   ]
  },
  {
   "cell_type": "markdown",
   "metadata": {},
   "source": [
    "Here we can see that both the model-based and item-based models are better than the baseline. What happens if we change some of the hypterparameters? How can we improve even more of these two models?"
   ]
  },
  {
   "cell_type": "markdown",
   "metadata": {},
   "source": [
    "# 5. Tuning Hyperparameters\n",
    "Below are the hyperparameters I identified to tune:\n",
    "- item_based model:\n",
    "    - number of nearest neighbors considered: num_k\n",
    "    - similarity type: \"pearson\" or \"cosine\"\n",
    "- model_based model:\n",
    "    - number of latent factors: num_fac\n",
    "    - regularization parameter (Interaction term): reg\n",
    "- classification threshold: n"
   ]
  },
  {
   "cell_type": "code",
   "execution_count": 21,
   "metadata": {
    "collapsed": true
   },
   "outputs": [],
   "source": [
    "# This function takes in a list of different choice of a parameter (k-nearest neighbors or similarity type)\n",
    "# and outputs a dataframe capturing the evaluation metrics at different choices of the parameter\n",
    "def evaluate_item_param(k_range,similarity_type,threshold,num_rec):\n",
    "    if type(k_range) is list:\n",
    "        param=k_range\n",
    "        eval=np.zeros(shape=(len(k_range),5))\n",
    "        for i in range(0,len(k_range)):\n",
    "            item_based= gl.item_similarity_recommender.create(\n",
    "                sf_train, target=\"rating\",similarity_type=similarity_type,verbose=False,only_top_k=k_range[i])\n",
    "            eval[i]= evaluate(item_based,sf_test,threshold,num_rec)\n",
    "        \n",
    "    elif type(similarity_type) is list:\n",
    "        param=similarity_type\n",
    "        eval=np.zeros(shape=(len(similarity_type),5))\n",
    "        for i in range(0,len(similarity_type)):\n",
    "            item_based= gl.item_similarity_recommender.create(\n",
    "                sf_train, target=\"rating\",similarity_type=similarity_type[i],verbose=False,only_top_k=k_range)\n",
    "            eval[i]= evaluate(item_based,sf_test,threshold,num_rec)\n",
    "    else:\n",
    "        \"Please review and change your input\"\n",
    "        \n",
    "    df_param=pd.DataFrame({\"param\":param,\"accuracy\": eval[:,0],\"precision\":eval[:,1],\n",
    "                           \"recall\":eval[:,2],\"auc\":eval[:,3],\"coverage\":eval[:,4]})\n",
    "    df_param=df_param[[\"param\",\"accuracy\",\"precision\",\"recall\",\"auc\",\"coverage\"]]\n",
    "    return df_param"
   ]
  },
  {
   "cell_type": "markdown",
   "metadata": {},
   "source": [
    "For k nearest neighbors, we explore the values from 40 to 600 and for the similarity types, we explore both pearson and cosine:"
   ]
  },
  {
   "cell_type": "code",
   "execution_count": 22,
   "metadata": {},
   "outputs": [
    {
     "data": {
      "text/html": [
       "<pre>Recsys training: model = item_similarity</pre>"
      ],
      "text/plain": [
       "Recsys training: model = item_similarity"
      ]
     },
     "metadata": {},
     "output_type": "display_data"
    },
    {
     "data": {
      "text/html": [
       "<pre>Recsys training: model = item_similarity</pre>"
      ],
      "text/plain": [
       "Recsys training: model = item_similarity"
      ]
     },
     "metadata": {},
     "output_type": "display_data"
    },
    {
     "data": {
      "text/html": [
       "<pre>Recsys training: model = item_similarity</pre>"
      ],
      "text/plain": [
       "Recsys training: model = item_similarity"
      ]
     },
     "metadata": {},
     "output_type": "display_data"
    },
    {
     "data": {
      "text/html": [
       "<pre>Recsys training: model = item_similarity</pre>"
      ],
      "text/plain": [
       "Recsys training: model = item_similarity"
      ]
     },
     "metadata": {},
     "output_type": "display_data"
    },
    {
     "data": {
      "text/html": [
       "<pre>Recsys training: model = item_similarity</pre>"
      ],
      "text/plain": [
       "Recsys training: model = item_similarity"
      ]
     },
     "metadata": {},
     "output_type": "display_data"
    },
    {
     "data": {
      "text/html": [
       "<pre>Recsys training: model = item_similarity</pre>"
      ],
      "text/plain": [
       "Recsys training: model = item_similarity"
      ]
     },
     "metadata": {},
     "output_type": "display_data"
    },
    {
     "data": {
      "text/html": [
       "<pre>Recsys training: model = item_similarity</pre>"
      ],
      "text/plain": [
       "Recsys training: model = item_similarity"
      ]
     },
     "metadata": {},
     "output_type": "display_data"
    },
    {
     "data": {
      "text/html": [
       "<pre>Recsys training: model = item_similarity</pre>"
      ],
      "text/plain": [
       "Recsys training: model = item_similarity"
      ]
     },
     "metadata": {},
     "output_type": "display_data"
    }
   ],
   "source": [
    "item_df_k=evaluate_item_param([40,80,160,300,500,600],\"pearson\",0.5,20)\n",
    "item_df_similarity=evaluate_item_param(300,[\"pearson\",\"cosine\"],0.1,20)"
   ]
  },
  {
   "cell_type": "code",
   "execution_count": 23,
   "metadata": {},
   "outputs": [
    {
     "data": {
      "text/html": [
       "<div>\n",
       "<table border=\"1\" class=\"dataframe\">\n",
       "  <thead>\n",
       "    <tr style=\"text-align: right;\">\n",
       "      <th></th>\n",
       "      <th>param</th>\n",
       "      <th>accuracy</th>\n",
       "      <th>precision</th>\n",
       "      <th>recall</th>\n",
       "      <th>auc</th>\n",
       "      <th>coverage</th>\n",
       "    </tr>\n",
       "  </thead>\n",
       "  <tbody>\n",
       "    <tr>\n",
       "      <th>0</th>\n",
       "      <td>40</td>\n",
       "      <td>0.573</td>\n",
       "      <td>0.616</td>\n",
       "      <td>0.629</td>\n",
       "      <td>0.558</td>\n",
       "      <td>0.104</td>\n",
       "    </tr>\n",
       "    <tr>\n",
       "      <th>1</th>\n",
       "      <td>80</td>\n",
       "      <td>0.576</td>\n",
       "      <td>0.617</td>\n",
       "      <td>0.636</td>\n",
       "      <td>0.559</td>\n",
       "      <td>0.107</td>\n",
       "    </tr>\n",
       "    <tr>\n",
       "      <th>2</th>\n",
       "      <td>160</td>\n",
       "      <td>0.578</td>\n",
       "      <td>0.618</td>\n",
       "      <td>0.641</td>\n",
       "      <td>0.559</td>\n",
       "      <td>0.103</td>\n",
       "    </tr>\n",
       "    <tr>\n",
       "      <th>3</th>\n",
       "      <td>300</td>\n",
       "      <td>0.578</td>\n",
       "      <td>0.618</td>\n",
       "      <td>0.640</td>\n",
       "      <td>0.560</td>\n",
       "      <td>0.107</td>\n",
       "    </tr>\n",
       "    <tr>\n",
       "      <th>4</th>\n",
       "      <td>500</td>\n",
       "      <td>0.578</td>\n",
       "      <td>0.619</td>\n",
       "      <td>0.642</td>\n",
       "      <td>0.560</td>\n",
       "      <td>0.104</td>\n",
       "    </tr>\n",
       "    <tr>\n",
       "      <th>5</th>\n",
       "      <td>600</td>\n",
       "      <td>0.579</td>\n",
       "      <td>0.619</td>\n",
       "      <td>0.641</td>\n",
       "      <td>0.560</td>\n",
       "      <td>0.110</td>\n",
       "    </tr>\n",
       "  </tbody>\n",
       "</table>\n",
       "</div>"
      ],
      "text/plain": [
       "   param  accuracy  precision  recall    auc  coverage\n",
       "0     40     0.573      0.616   0.629  0.558     0.104\n",
       "1     80     0.576      0.617   0.636  0.559     0.107\n",
       "2    160     0.578      0.618   0.641  0.559     0.103\n",
       "3    300     0.578      0.618   0.640  0.560     0.107\n",
       "4    500     0.578      0.619   0.642  0.560     0.104\n",
       "5    600     0.579      0.619   0.641  0.560     0.110"
      ]
     },
     "execution_count": 23,
     "metadata": {},
     "output_type": "execute_result"
    }
   ],
   "source": [
    "item_df_k"
   ]
  },
  {
   "cell_type": "code",
   "execution_count": 24,
   "metadata": {},
   "outputs": [
    {
     "data": {
      "text/html": [
       "<div>\n",
       "<table border=\"1\" class=\"dataframe\">\n",
       "  <thead>\n",
       "    <tr style=\"text-align: right;\">\n",
       "      <th></th>\n",
       "      <th>param</th>\n",
       "      <th>accuracy</th>\n",
       "      <th>precision</th>\n",
       "      <th>recall</th>\n",
       "      <th>auc</th>\n",
       "      <th>coverage</th>\n",
       "    </tr>\n",
       "  </thead>\n",
       "  <tbody>\n",
       "    <tr>\n",
       "      <th>0</th>\n",
       "      <td>pearson</td>\n",
       "      <td>0.573</td>\n",
       "      <td>0.589</td>\n",
       "      <td>0.784</td>\n",
       "      <td>0.560</td>\n",
       "      <td>0.108</td>\n",
       "    </tr>\n",
       "    <tr>\n",
       "      <th>1</th>\n",
       "      <td>cosine</td>\n",
       "      <td>0.453</td>\n",
       "      <td>0.798</td>\n",
       "      <td>0.029</td>\n",
       "      <td>0.621</td>\n",
       "      <td>0.139</td>\n",
       "    </tr>\n",
       "  </tbody>\n",
       "</table>\n",
       "</div>"
      ],
      "text/plain": [
       "     param  accuracy  precision  recall    auc  coverage\n",
       "0  pearson     0.573      0.589   0.784  0.560     0.108\n",
       "1   cosine     0.453      0.798   0.029  0.621     0.139"
      ]
     },
     "execution_count": 24,
     "metadata": {},
     "output_type": "execute_result"
    }
   ],
   "source": [
    "item_df_similarity"
   ]
  },
  {
   "cell_type": "markdown",
   "metadata": {},
   "source": [
    "Next, let's plot out the results:"
   ]
  },
  {
   "cell_type": "code",
   "execution_count": 27,
   "metadata": {},
   "outputs": [
    {
     "data": {
      "image/png": "[encoded data removed]",
      "text/plain": [
       "<matplotlib.figure.Figure at 0x1387bfd10>"
      ]
     },
     "metadata": {},
     "output_type": "display_data"
    }
   ],
   "source": [
    "fig, axes = plt.subplots(1,2, figsize = (12,5))\n",
    "\n",
    "# plotting metrics as k nearest neighbors changes\n",
    "axes[0].plot(item_df_k[\"param\"], item_df_k[\"accuracy\"], color=\"red\",label=\"accuracy\")\n",
    "ax2 = axes[0].twinx()\n",
    "ax2.plot(item_df_k[\"param\"], item_df_k[\"coverage\"],color=\"green\",label=\"coverage\")\n",
    "ax2.set_ylabel('coverage')\n",
    "axes[0].set( xlabel = \"number of k nearest neighbors\", ylabel = \"accuracy\")\n",
    "\n",
    "# plotting metrics given different similarity types\n",
    "x_axis=np.arange(len(item_df_similarity[\"param\"]))\n",
    "axes[1].bar(x_axis, item_df_similarity[\"accuracy\"], width=0.5,color=\"red\",align=\"center\",label=\"accuracy\")\n",
    "ax3 = axes[1].twinx()\n",
    "ax3.bar(x_axis, item_df_similarity[\"coverage\"],width=0.5,color=\"green\",align=\"edge\",label=\"coverage\")\n",
    "axes[1].set_xticks(x_axis)\n",
    "axes[1].set_xticklabels(item_df_similarity[\"param\"])\n",
    "ax3.set_ylabel('coverage')\n",
    "axes[1].set( xlabel = \"similarity type\", ylabel = \"accuracy\")\n",
    "axes[0].legend()\n",
    "axes[1].legend()\n",
    "plt.tight_layout()\n"
   ]
  },
  {
   "cell_type": "markdown",
   "metadata": {},
   "source": [
    "From the plots for item_based model, we can see that both accuracy and coverage increases as number of k nearest neighbors increases; the accuracy is higher given pearson similarity while cosine similarity gives a higher coverage. Therefore, we can conclude that a higher k and the pearson similarity form an optimal choice for the parameters, though the choice of pearson might suffer in coverage to some extent."
   ]
  },
  {
   "cell_type": "code",
   "execution_count": 28,
   "metadata": {
    "collapsed": true
   },
   "outputs": [],
   "source": [
    "# This function takes in a list of different choices of a parameter (num of latent factors or regularization terms)\n",
    "# and outputs a dataframe capturing the evaluation metrics at different choices of the parameter\n",
    "def evaluate_factorization_param(n_fac,reg,threshold,num_rec):\n",
    "    if type(n_fac) is list:\n",
    "        param=n_fac\n",
    "        eval=np.zeros(shape=(len(n_fac),5))\n",
    "        for i in range(0,len(n_fac)):\n",
    "            model_based=gl.ranking_factorization_recommender.create(\n",
    "                sf_train, target='rating',num_factors=n_fac[i], regularization=reg,\n",
    "                binary_target=True,solver = \"sgd\",verbose=False)\n",
    "            eval[i]= evaluate(model_based,sf_test,threshold,num_rec)\n",
    "    elif type(reg) is list:\n",
    "        param=reg\n",
    "        eval=np.zeros(shape=(len(reg),5))\n",
    "        for i in range(0,len(reg)):\n",
    "            model_based=gl.ranking_factorization_recommender.create(\n",
    "                sf_train, target='rating',num_factors=n_fac, regularization=reg[i],\n",
    "                binary_target=True,solver = \"sgd\",verbose=False)\n",
    "            eval[i]= evaluate(model_based,sf_test,threshold,num_rec)   \n",
    "    else:\n",
    "        \"Please review input\"\n",
    "        \n",
    "    df_param=pd.DataFrame({\"param\":param,\"accuracy\": eval[:,0],\"precision\":eval[:,1],\n",
    "                           \"recall\":eval[:,2],\"auc\":eval[:,3],\"coverage\":eval[:,4]})\n",
    "    df_param=df_param[[\"param\",\"accuracy\",\"precision\",\"recall\",\"auc\",\"coverage\"]]\n",
    "    return df_param"
   ]
  },
  {
   "cell_type": "markdown",
   "metadata": {},
   "source": [
    "For number of latent factors, we explore the values from 10 to 60 and for regularization parameters, we explore values from 1e-11 to 1e-7:"
   ]
  },
  {
   "cell_type": "code",
   "execution_count": 29,
   "metadata": {},
   "outputs": [
    {
     "data": {
      "text/html": [
       "<pre>Recsys training: model = ranking_factorization_recommender</pre>"
      ],
      "text/plain": [
       "Recsys training: model = ranking_factorization_recommender"
      ]
     },
     "metadata": {},
     "output_type": "display_data"
    },
    {
     "data": {
      "text/html": [
       "<pre>Recsys training: model = ranking_factorization_recommender</pre>"
      ],
      "text/plain": [
       "Recsys training: model = ranking_factorization_recommender"
      ]
     },
     "metadata": {},
     "output_type": "display_data"
    },
    {
     "data": {
      "text/html": [
       "<pre>Recsys training: model = ranking_factorization_recommender</pre>"
      ],
      "text/plain": [
       "Recsys training: model = ranking_factorization_recommender"
      ]
     },
     "metadata": {},
     "output_type": "display_data"
    },
    {
     "data": {
      "text/html": [
       "<pre>Recsys training: model = ranking_factorization_recommender</pre>"
      ],
      "text/plain": [
       "Recsys training: model = ranking_factorization_recommender"
      ]
     },
     "metadata": {},
     "output_type": "display_data"
    },
    {
     "data": {
      "text/html": [
       "<pre>Recsys training: model = ranking_factorization_recommender</pre>"
      ],
      "text/plain": [
       "Recsys training: model = ranking_factorization_recommender"
      ]
     },
     "metadata": {},
     "output_type": "display_data"
    },
    {
     "data": {
      "text/html": [
       "<pre>Recsys training: model = ranking_factorization_recommender</pre>"
      ],
      "text/plain": [
       "Recsys training: model = ranking_factorization_recommender"
      ]
     },
     "metadata": {},
     "output_type": "display_data"
    },
    {
     "data": {
      "text/html": [
       "<pre>Recsys training: model = ranking_factorization_recommender</pre>"
      ],
      "text/plain": [
       "Recsys training: model = ranking_factorization_recommender"
      ]
     },
     "metadata": {},
     "output_type": "display_data"
    },
    {
     "data": {
      "text/html": [
       "<pre>Recsys training: model = ranking_factorization_recommender</pre>"
      ],
      "text/plain": [
       "Recsys training: model = ranking_factorization_recommender"
      ]
     },
     "metadata": {},
     "output_type": "display_data"
    },
    {
     "data": {
      "text/html": [
       "<pre>Recsys training: model = ranking_factorization_recommender</pre>"
      ],
      "text/plain": [
       "Recsys training: model = ranking_factorization_recommender"
      ]
     },
     "metadata": {},
     "output_type": "display_data"
    }
   ],
   "source": [
    "fac_df_n=evaluate_factorization_param([10,20,30,60],1e-08,0.5,20)\n",
    "fac_df_reg=evaluate_factorization_param(10,[1e-11,1e-10,1e-09,1e-08,1e-07],0.5,20)"
   ]
  },
  {
   "cell_type": "code",
   "execution_count": 30,
   "metadata": {},
   "outputs": [
    {
     "data": {
      "text/html": [
       "<div>\n",
       "<table border=\"1\" class=\"dataframe\">\n",
       "  <thead>\n",
       "    <tr style=\"text-align: right;\">\n",
       "      <th></th>\n",
       "      <th>param</th>\n",
       "      <th>accuracy</th>\n",
       "      <th>precision</th>\n",
       "      <th>recall</th>\n",
       "      <th>auc</th>\n",
       "      <th>coverage</th>\n",
       "    </tr>\n",
       "  </thead>\n",
       "  <tbody>\n",
       "    <tr>\n",
       "      <th>0</th>\n",
       "      <td>10</td>\n",
       "      <td>0.546</td>\n",
       "      <td>0.762</td>\n",
       "      <td>0.273</td>\n",
       "      <td>0.647</td>\n",
       "      <td>0.175</td>\n",
       "    </tr>\n",
       "    <tr>\n",
       "      <th>1</th>\n",
       "      <td>20</td>\n",
       "      <td>0.522</td>\n",
       "      <td>0.782</td>\n",
       "      <td>0.203</td>\n",
       "      <td>0.638</td>\n",
       "      <td>0.185</td>\n",
       "    </tr>\n",
       "    <tr>\n",
       "      <th>2</th>\n",
       "      <td>30</td>\n",
       "      <td>0.536</td>\n",
       "      <td>0.786</td>\n",
       "      <td>0.234</td>\n",
       "      <td>0.633</td>\n",
       "      <td>0.105</td>\n",
       "    </tr>\n",
       "    <tr>\n",
       "      <th>3</th>\n",
       "      <td>60</td>\n",
       "      <td>0.533</td>\n",
       "      <td>0.789</td>\n",
       "      <td>0.226</td>\n",
       "      <td>0.634</td>\n",
       "      <td>0.105</td>\n",
       "    </tr>\n",
       "  </tbody>\n",
       "</table>\n",
       "</div>"
      ],
      "text/plain": [
       "   param  accuracy  precision  recall    auc  coverage\n",
       "0     10     0.546      0.762   0.273  0.647     0.175\n",
       "1     20     0.522      0.782   0.203  0.638     0.185\n",
       "2     30     0.536      0.786   0.234  0.633     0.105\n",
       "3     60     0.533      0.789   0.226  0.634     0.105"
      ]
     },
     "execution_count": 30,
     "metadata": {},
     "output_type": "execute_result"
    }
   ],
   "source": [
    "fac_df_n"
   ]
  },
  {
   "cell_type": "code",
   "execution_count": 31,
   "metadata": {},
   "outputs": [
    {
     "data": {
      "text/html": [
       "<div>\n",
       "<table border=\"1\" class=\"dataframe\">\n",
       "  <thead>\n",
       "    <tr style=\"text-align: right;\">\n",
       "      <th></th>\n",
       "      <th>param</th>\n",
       "      <th>accuracy</th>\n",
       "      <th>precision</th>\n",
       "      <th>recall</th>\n",
       "      <th>auc</th>\n",
       "      <th>coverage</th>\n",
       "    </tr>\n",
       "  </thead>\n",
       "  <tbody>\n",
       "    <tr>\n",
       "      <th>0</th>\n",
       "      <td>1.000000e-11</td>\n",
       "      <td>0.542</td>\n",
       "      <td>0.764</td>\n",
       "      <td>0.263</td>\n",
       "      <td>0.646</td>\n",
       "      <td>0.170</td>\n",
       "    </tr>\n",
       "    <tr>\n",
       "      <th>1</th>\n",
       "      <td>1.000000e-10</td>\n",
       "      <td>0.547</td>\n",
       "      <td>0.763</td>\n",
       "      <td>0.275</td>\n",
       "      <td>0.647</td>\n",
       "      <td>0.175</td>\n",
       "    </tr>\n",
       "    <tr>\n",
       "      <th>2</th>\n",
       "      <td>1.000000e-09</td>\n",
       "      <td>0.547</td>\n",
       "      <td>0.761</td>\n",
       "      <td>0.277</td>\n",
       "      <td>0.643</td>\n",
       "      <td>0.171</td>\n",
       "    </tr>\n",
       "    <tr>\n",
       "      <th>3</th>\n",
       "      <td>1.000000e-08</td>\n",
       "      <td>0.547</td>\n",
       "      <td>0.761</td>\n",
       "      <td>0.277</td>\n",
       "      <td>0.644</td>\n",
       "      <td>0.173</td>\n",
       "    </tr>\n",
       "    <tr>\n",
       "      <th>4</th>\n",
       "      <td>1.000000e-07</td>\n",
       "      <td>0.548</td>\n",
       "      <td>0.772</td>\n",
       "      <td>0.273</td>\n",
       "      <td>0.652</td>\n",
       "      <td>0.173</td>\n",
       "    </tr>\n",
       "  </tbody>\n",
       "</table>\n",
       "</div>"
      ],
      "text/plain": [
       "          param  accuracy  precision  recall    auc  coverage\n",
       "0  1.000000e-11     0.542      0.764   0.263  0.646     0.170\n",
       "1  1.000000e-10     0.547      0.763   0.275  0.647     0.175\n",
       "2  1.000000e-09     0.547      0.761   0.277  0.643     0.171\n",
       "3  1.000000e-08     0.547      0.761   0.277  0.644     0.173\n",
       "4  1.000000e-07     0.548      0.772   0.273  0.652     0.173"
      ]
     },
     "execution_count": 31,
     "metadata": {},
     "output_type": "execute_result"
    }
   ],
   "source": [
    "fac_df_reg"
   ]
  },
  {
   "cell_type": "markdown",
   "metadata": {},
   "source": [
    "Next, let's plot out the results:"
   ]
  },
  {
   "cell_type": "code",
   "execution_count": 32,
   "metadata": {},
   "outputs": [
    {
     "data": {
      "image/png": "[encoded data removed]",
      "text/plain": [
       "<matplotlib.figure.Figure at 0x12ef621d0>"
      ]
     },
     "metadata": {},
     "output_type": "display_data"
    }
   ],
   "source": [
    "fig, axes = plt.subplots(1,2, figsize = (12,5))\n",
    "#plotting metrics as number of latent factors changes\n",
    "axes[0].plot(fac_df_n[\"param\"], fac_df_n[\"accuracy\"], color=\"red\",label=\"accuracy\")\n",
    "ax2 = axes[0].twinx()\n",
    "ax2.plot(fac_df_n[\"param\"], fac_df_n[\"coverage\"],color=\"green\",label=\"coverage\")\n",
    "ax2.set_ylabel('coverage')\n",
    "axes[0].set( xlabel = \"number of latent factors\", ylabel = \"accuracy\")\n",
    "axes[0].set_title(\"Metrics as Number of Latent Factors Increases\")\n",
    "axes[0].legend()\n",
    "\n",
    "#plotting metrics as ragularization parameter changes\n",
    "x_axis=np.arange(len(fac_df_reg[\"param\"]))\n",
    "axes[1].plot(x_axis, fac_df_reg[\"accuracy\"], color=\"red\",label=\"accuracy\")\n",
    "axes[1].set_xticks(x_axis)\n",
    "axes[1].set_xticklabels(fac_df_reg[\"param\"])\n",
    "ax3 = axes[1].twinx()\n",
    "ax3.plot(x_axis, fac_df_reg[\"coverage\"],color=\"green\",label=\"coverage\")\n",
    "ax3.set_ylabel('coverage')\n",
    "axes[1].set( xlabel = \"regularization parameter\", ylabel = \"accuracy\")\n",
    "axes[1].set_title(\"Metrics as Regularization Parameter Increases\")\n",
    "axes[1].legend()\n",
    "plt.tight_layout()"
   ]
  },
  {
   "cell_type": "markdown",
   "metadata": {},
   "source": [
    "From the plots above for model-based model, we can see that the accuracy and coverage have an inverse relationship though both peaked at n=10; The accuracy increases as regularization parameter increases while coverage first increases and then decreases, followed by another increase. Considering all patterns for both accuracy and coverage, we can conclude that a number of latent factors at 10 and a regularization parameter at 1e-07 form an optimal choice for the parameters."
   ]
  },
  {
   "cell_type": "code",
   "execution_count": 33,
   "metadata": {
    "collapsed": true
   },
   "outputs": [],
   "source": [
    "# This function takes in a range of choices of threshold and evaluates the model performances \n",
    "def evaluate_threshold(thresh):\n",
    "    eval1=np.zeros(shape=(len(thresh),5))\n",
    "    eval2=np.zeros(shape=(len(thresh),5))\n",
    "    for i in range(0,len(thresh)):\n",
    "        model_based=gl.ranking_factorization_recommender.create(\n",
    "                sf_train, target='rating',num_factors=10, regularization=1e-07,\n",
    "                binary_target=True,solver = \"sgd\",verbose=False)\n",
    "        item_based= gl.item_similarity_recommender.create(\n",
    "                sf_train, target=\"rating\",similarity_type=\"pearson\",verbose=False,only_top_k=300)\n",
    "        eval1[i]= evaluate(model_based,sf_test,threshold[i],20)\n",
    "        eval2[i]= evaluate(item_based,sf_test,threshold[i],20)\n",
    "    df_param=pd.DataFrame({\"param\":thresh,\"accuracy_model\": eval1[:,0],\"accuracy_item\":eval2[:,0]})\n",
    "    df_param=df_param[[\"param\",\"accuracy_model\",\"accuracy_item\"]]\n",
    "    return df_param"
   ]
  },
  {
   "cell_type": "markdown",
   "metadata": {},
   "source": [
    "We construct the threshold to be 0.1,0.2....0.9 and evaluate which choice results in better performance of both model based and item-based models:"
   ]
  },
  {
   "cell_type": "code",
   "execution_count": 34,
   "metadata": {},
   "outputs": [
    {
     "data": {
      "text/html": [
       "<pre>Recsys training: model = ranking_factorization_recommender</pre>"
      ],
      "text/plain": [
       "Recsys training: model = ranking_factorization_recommender"
      ]
     },
     "metadata": {},
     "output_type": "display_data"
    },
    {
     "data": {
      "text/html": [
       "<pre>Recsys training: model = item_similarity</pre>"
      ],
      "text/plain": [
       "Recsys training: model = item_similarity"
      ]
     },
     "metadata": {},
     "output_type": "display_data"
    },
    {
     "data": {
      "text/html": [
       "<pre>Recsys training: model = ranking_factorization_recommender</pre>"
      ],
      "text/plain": [
       "Recsys training: model = ranking_factorization_recommender"
      ]
     },
     "metadata": {},
     "output_type": "display_data"
    },
    {
     "data": {
      "text/html": [
       "<pre>Recsys training: model = item_similarity</pre>"
      ],
      "text/plain": [
       "Recsys training: model = item_similarity"
      ]
     },
     "metadata": {},
     "output_type": "display_data"
    },
    {
     "data": {
      "text/html": [
       "<pre>Recsys training: model = ranking_factorization_recommender</pre>"
      ],
      "text/plain": [
       "Recsys training: model = ranking_factorization_recommender"
      ]
     },
     "metadata": {},
     "output_type": "display_data"
    },
    {
     "data": {
      "text/html": [
       "<pre>Recsys training: model = item_similarity</pre>"
      ],
      "text/plain": [
       "Recsys training: model = item_similarity"
      ]
     },
     "metadata": {},
     "output_type": "display_data"
    },
    {
     "data": {
      "text/html": [
       "<pre>Recsys training: model = ranking_factorization_recommender</pre>"
      ],
      "text/plain": [
       "Recsys training: model = ranking_factorization_recommender"
      ]
     },
     "metadata": {},
     "output_type": "display_data"
    },
    {
     "data": {
      "text/html": [
       "<pre>Recsys training: model = item_similarity</pre>"
      ],
      "text/plain": [
       "Recsys training: model = item_similarity"
      ]
     },
     "metadata": {},
     "output_type": "display_data"
    },
    {
     "data": {
      "text/html": [
       "<pre>Recsys training: model = ranking_factorization_recommender</pre>"
      ],
      "text/plain": [
       "Recsys training: model = ranking_factorization_recommender"
      ]
     },
     "metadata": {},
     "output_type": "display_data"
    },
    {
     "data": {
      "text/html": [
       "<pre>Recsys training: model = item_similarity</pre>"
      ],
      "text/plain": [
       "Recsys training: model = item_similarity"
      ]
     },
     "metadata": {},
     "output_type": "display_data"
    },
    {
     "data": {
      "text/html": [
       "<pre>Recsys training: model = ranking_factorization_recommender</pre>"
      ],
      "text/plain": [
       "Recsys training: model = ranking_factorization_recommender"
      ]
     },
     "metadata": {},
     "output_type": "display_data"
    },
    {
     "data": {
      "text/html": [
       "<pre>Recsys training: model = item_similarity</pre>"
      ],
      "text/plain": [
       "Recsys training: model = item_similarity"
      ]
     },
     "metadata": {},
     "output_type": "display_data"
    },
    {
     "data": {
      "text/html": [
       "<pre>Recsys training: model = ranking_factorization_recommender</pre>"
      ],
      "text/plain": [
       "Recsys training: model = ranking_factorization_recommender"
      ]
     },
     "metadata": {},
     "output_type": "display_data"
    },
    {
     "data": {
      "text/html": [
       "<pre>Recsys training: model = item_similarity</pre>"
      ],
      "text/plain": [
       "Recsys training: model = item_similarity"
      ]
     },
     "metadata": {},
     "output_type": "display_data"
    },
    {
     "data": {
      "text/html": [
       "<pre>Recsys training: model = ranking_factorization_recommender</pre>"
      ],
      "text/plain": [
       "Recsys training: model = ranking_factorization_recommender"
      ]
     },
     "metadata": {},
     "output_type": "display_data"
    },
    {
     "data": {
      "text/html": [
       "<pre>Recsys training: model = item_similarity</pre>"
      ],
      "text/plain": [
       "Recsys training: model = item_similarity"
      ]
     },
     "metadata": {},
     "output_type": "display_data"
    },
    {
     "data": {
      "text/html": [
       "<pre>Recsys training: model = ranking_factorization_recommender</pre>"
      ],
      "text/plain": [
       "Recsys training: model = ranking_factorization_recommender"
      ]
     },
     "metadata": {},
     "output_type": "display_data"
    },
    {
     "data": {
      "text/html": [
       "<pre>Recsys training: model = item_similarity</pre>"
      ],
      "text/plain": [
       "Recsys training: model = item_similarity"
      ]
     },
     "metadata": {},
     "output_type": "display_data"
    }
   ],
   "source": [
    "threshold=[float(\"{0:.1f}\".format(i*0.1)) for i in range(1,10)]\n",
    "thre_df=evaluate_threshold(threshold)"
   ]
  },
  {
   "cell_type": "code",
   "execution_count": 35,
   "metadata": {},
   "outputs": [
    {
     "data": {
      "text/html": [
       "<div>\n",
       "<table border=\"1\" class=\"dataframe\">\n",
       "  <thead>\n",
       "    <tr style=\"text-align: right;\">\n",
       "      <th></th>\n",
       "      <th>param</th>\n",
       "      <th>accuracy_model</th>\n",
       "      <th>accuracy_item</th>\n",
       "    </tr>\n",
       "  </thead>\n",
       "  <tbody>\n",
       "    <tr>\n",
       "      <th>0</th>\n",
       "      <td>0.1</td>\n",
       "      <td>0.578</td>\n",
       "      <td>0.573</td>\n",
       "    </tr>\n",
       "    <tr>\n",
       "      <th>1</th>\n",
       "      <td>0.2</td>\n",
       "      <td>0.570</td>\n",
       "      <td>0.575</td>\n",
       "    </tr>\n",
       "    <tr>\n",
       "      <th>2</th>\n",
       "      <td>0.3</td>\n",
       "      <td>0.564</td>\n",
       "      <td>0.573</td>\n",
       "    </tr>\n",
       "    <tr>\n",
       "      <th>3</th>\n",
       "      <td>0.4</td>\n",
       "      <td>0.549</td>\n",
       "      <td>0.575</td>\n",
       "    </tr>\n",
       "    <tr>\n",
       "      <th>4</th>\n",
       "      <td>0.5</td>\n",
       "      <td>0.541</td>\n",
       "      <td>0.578</td>\n",
       "    </tr>\n",
       "    <tr>\n",
       "      <th>5</th>\n",
       "      <td>0.6</td>\n",
       "      <td>0.541</td>\n",
       "      <td>0.547</td>\n",
       "    </tr>\n",
       "    <tr>\n",
       "      <th>6</th>\n",
       "      <td>0.7</td>\n",
       "      <td>0.531</td>\n",
       "      <td>0.498</td>\n",
       "    </tr>\n",
       "    <tr>\n",
       "      <th>7</th>\n",
       "      <td>0.8</td>\n",
       "      <td>0.516</td>\n",
       "      <td>0.458</td>\n",
       "    </tr>\n",
       "    <tr>\n",
       "      <th>8</th>\n",
       "      <td>0.9</td>\n",
       "      <td>0.491</td>\n",
       "      <td>0.443</td>\n",
       "    </tr>\n",
       "  </tbody>\n",
       "</table>\n",
       "</div>"
      ],
      "text/plain": [
       "   param  accuracy_model  accuracy_item\n",
       "0    0.1           0.578          0.573\n",
       "1    0.2           0.570          0.575\n",
       "2    0.3           0.564          0.573\n",
       "3    0.4           0.549          0.575\n",
       "4    0.5           0.541          0.578\n",
       "5    0.6           0.541          0.547\n",
       "6    0.7           0.531          0.498\n",
       "7    0.8           0.516          0.458\n",
       "8    0.9           0.491          0.443"
      ]
     },
     "execution_count": 35,
     "metadata": {},
     "output_type": "execute_result"
    }
   ],
   "source": [
    "thre_df"
   ]
  },
  {
   "cell_type": "code",
   "execution_count": 36,
   "metadata": {},
   "outputs": [
    {
     "data": {
      "text/plain": [
       "<matplotlib.text.Text at 0x12e5f1bd0>"
      ]
     },
     "execution_count": 36,
     "metadata": {},
     "output_type": "execute_result"
    },
    {
     "data": {
      "image/png": "[encoded data removed]",
      "text/plain": [
       "<matplotlib.figure.Figure at 0x11f3d2690>"
      ]
     },
     "metadata": {},
     "output_type": "display_data"
    }
   ],
   "source": [
    "# let's plot out the results:\n",
    "plt.figure(figsize = (12,5))\n",
    "plt.plot(thre_df[\"param\"], thre_df[\"accuracy_model\"], label = \"model-based\", color = \"red\")\n",
    "plt.plot(thre_df[\"param\"], thre_df[\"accuracy_item\"], label = \"item-based\", color = \"blue\")\n",
    "plt.legend()\n",
    "plt.title('Accuracy with Different Choices of Threshold')\n",
    "plt.ylabel('Accuracy')\n",
    "plt.xlabel('Choices of Threshold')\n"
   ]
  },
  {
   "cell_type": "markdown",
   "metadata": {},
   "source": [
    "From the above chart, we can see that model-based model decreases as threshold increases while item-based model reachs a higher accuracy when threshold is set to 0.5 and decreases after 0.5. Therefore, we choose 0.5 as our optimal threshold.\n",
    "\n",
    "So far, we have explored how accuracy/coverage metrics change as we tune the hyperparameters and have found a set of optimal parameters. However, what happens when we scale up our sample data size? Will it result in a different performance or an exponentially increasing runtime?"
   ]
  },
  {
   "cell_type": "markdown",
   "metadata": {},
   "source": [
    "# 6. Changing Sample Size\n",
    "\n",
    "Now, we take the formally constructed samples and record and measure both the performance and runtime of each sample size."
   ]
  },
  {
   "cell_type": "code",
   "execution_count": 37,
   "metadata": {},
   "outputs": [
    {
     "data": {
      "text/html": [
       "<pre>Recsys training: model = popularity</pre>"
      ],
      "text/plain": [
       "Recsys training: model = popularity"
      ]
     },
     "metadata": {},
     "output_type": "display_data"
    },
    {
     "data": {
      "text/html": [
       "<pre>Recsys training: model = popularity</pre>"
      ],
      "text/plain": [
       "Recsys training: model = popularity"
      ]
     },
     "metadata": {},
     "output_type": "display_data"
    },
    {
     "data": {
      "text/html": [
       "<pre>Recsys training: model = popularity</pre>"
      ],
      "text/plain": [
       "Recsys training: model = popularity"
      ]
     },
     "metadata": {},
     "output_type": "display_data"
    },
    {
     "data": {
      "text/html": [
       "<pre>Recsys training: model = popularity</pre>"
      ],
      "text/plain": [
       "Recsys training: model = popularity"
      ]
     },
     "metadata": {},
     "output_type": "display_data"
    },
    {
     "data": {
      "text/html": [
       "<pre>Recsys training: model = popularity</pre>"
      ],
      "text/plain": [
       "Recsys training: model = popularity"
      ]
     },
     "metadata": {},
     "output_type": "display_data"
    },
    {
     "data": {
      "text/html": [
       "<pre>Recsys training: model = item_similarity</pre>"
      ],
      "text/plain": [
       "Recsys training: model = item_similarity"
      ]
     },
     "metadata": {},
     "output_type": "display_data"
    },
    {
     "data": {
      "text/html": [
       "<pre>Recsys training: model = item_similarity</pre>"
      ],
      "text/plain": [
       "Recsys training: model = item_similarity"
      ]
     },
     "metadata": {},
     "output_type": "display_data"
    },
    {
     "data": {
      "text/html": [
       "<pre>Recsys training: model = item_similarity</pre>"
      ],
      "text/plain": [
       "Recsys training: model = item_similarity"
      ]
     },
     "metadata": {},
     "output_type": "display_data"
    },
    {
     "data": {
      "text/html": [
       "<pre>Recsys training: model = item_similarity</pre>"
      ],
      "text/plain": [
       "Recsys training: model = item_similarity"
      ]
     },
     "metadata": {},
     "output_type": "display_data"
    },
    {
     "data": {
      "text/html": [
       "<pre>Recsys training: model = item_similarity</pre>"
      ],
      "text/plain": [
       "Recsys training: model = item_similarity"
      ]
     },
     "metadata": {},
     "output_type": "display_data"
    },
    {
     "data": {
      "text/html": [
       "<pre>Recsys training: model = ranking_factorization_recommender</pre>"
      ],
      "text/plain": [
       "Recsys training: model = ranking_factorization_recommender"
      ]
     },
     "metadata": {},
     "output_type": "display_data"
    },
    {
     "data": {
      "text/html": [
       "<pre>Recsys training: model = ranking_factorization_recommender</pre>"
      ],
      "text/plain": [
       "Recsys training: model = ranking_factorization_recommender"
      ]
     },
     "metadata": {},
     "output_type": "display_data"
    },
    {
     "data": {
      "text/html": [
       "<pre>Recsys training: model = ranking_factorization_recommender</pre>"
      ],
      "text/plain": [
       "Recsys training: model = ranking_factorization_recommender"
      ]
     },
     "metadata": {},
     "output_type": "display_data"
    },
    {
     "data": {
      "text/html": [
       "<pre>Recsys training: model = ranking_factorization_recommender</pre>"
      ],
      "text/plain": [
       "Recsys training: model = ranking_factorization_recommender"
      ]
     },
     "metadata": {},
     "output_type": "display_data"
    },
    {
     "data": {
      "text/html": [
       "<pre>Recsys training: model = ranking_factorization_recommender</pre>"
      ],
      "text/plain": [
       "Recsys training: model = ranking_factorization_recommender"
      ]
     },
     "metadata": {},
     "output_type": "display_data"
    }
   ],
   "source": [
    "runtime_dict=dict()\n",
    "runtime_list = []\n",
    "metric_dict=dict()\n",
    "metric_list=[]\n",
    "#perform baseline model on different sample sizes\n",
    "for i in samples:\n",
    "    sf_sample = graphlab.SFrame(data=i)\n",
    "    train, test = sf_sample.random_split(.8)\n",
    "    start = time.time()\n",
    "    baseline=gl.popularity_recommender.create(train, target='rating',verbose=False)\n",
    "    end = time.time()\n",
    "    runtime_list.append(end - start)\n",
    "    result=evaluate(baseline,test,0.5,20)\n",
    "    accuracy=result[0]\n",
    "    coverage=result[-1]\n",
    "    metric_list.append([accuracy,coverage])\n",
    "runtime_dict['baseline'] = runtime_list\n",
    "metric_dict[\"baseline\"]=metric_list\n",
    "\n",
    "#perform item_based model on different sample sizes\n",
    "runtime_list = []\n",
    "metric_list=[]\n",
    "for i in samples:\n",
    "    sf_sample = graphlab.SFrame(i)\n",
    "    train, test = sf_sample.random_split(.8)\n",
    "    start = time.time()\n",
    "    item_based=gl.item_similarity_recommender.create(\n",
    "        train, target=\"rating\",similarity_type=\"pearson\",verbose=False,only_top_k=300)\n",
    "    end = time.time()\n",
    "    runtime_list.append(end - start)\n",
    "    result=evaluate(item_based,test,0.5,20)\n",
    "    accuracy=result[0]\n",
    "    coverage=result[-1]\n",
    "    metric_list.append([accuracy,coverage])\n",
    "metric_dict[\"item_based\"]=metric_list\n",
    "runtime_dict['item-based'] = runtime_list\n",
    "\n",
    "#perform model_based model on different sample sizes\n",
    "runtime_list = []\n",
    "metric_list=[]\n",
    "for i in samples:\n",
    "    sf_sample = graphlab.SFrame(data=i)\n",
    "    train, test = sf_sample.random_split(.8)\n",
    "    start = time.time()\n",
    "    model_based=gl.ranking_factorization_recommender.create(\n",
    "                train, target='rating',num_factors=10, regularization=1e-08,\n",
    "                binary_target=True,solver = \"sgd\",verbose=False)\n",
    "    end = time.time()\n",
    "    runtime_list.append(end - start)\n",
    "    \n",
    "    result=evaluate(model_based,test,0.5,20)\n",
    "    accuracy=result[0]\n",
    "    coverage=result[-1]\n",
    "    metric_list.append([accuracy,coverage])\n",
    "metric_dict[\"model_based\"]=metric_list\n",
    "runtime_dict['model-based'] = runtime_list"
   ]
  },
  {
   "cell_type": "code",
   "execution_count": 40,
   "metadata": {},
   "outputs": [
    {
     "data": {
      "image/png": "[encoded data removed]",
      "text/plain": [
       "<matplotlib.figure.Figure at 0x125e9a850>"
      ]
     },
     "metadata": {},
     "output_type": "display_data"
    }
   ],
   "source": [
    "# let's plot out the metrics for all three models as data scales\n",
    "perc_user = perc_range\n",
    "colors=[plt.cm.Spectral(each) for each in np.linspace(0,1,len(perc_range))]\n",
    "\n",
    "fig,axes=plt.subplots(1,2,figsize = (12,5))\n",
    "for key, value, color in zip(metric_dict.keys(), metric_dict.values(), colors):\n",
    "    axes[0].plot(perc_range, [i[0] for i in value], label = key, color = color)\n",
    "axes[0].legend()\n",
    "axes[0].set_title('Accuracy Performance as Data Scales')\n",
    "axes[0].set_xlabel('Percentage of Users Included in Sample')\n",
    "axes[0].set_ylabel('accuracy')\n",
    "\n",
    "for key, value, color in zip(metric_dict.keys(), metric_dict.values(), colors):\n",
    "    axes[1].plot(perc_range, [i[1] for i in value], label = key, color = color)\n",
    "axes[1].legend()\n",
    "axes[1].set_title('Aoverage Performance as Data Scales')\n",
    "axes[1].set_xlabel('Percentage of Users Included in Sample')\n",
    "axes[1].set_ylabel('coverage')\n",
    "plt.tight_layout()\n"
   ]
  },
  {
   "cell_type": "markdown",
   "metadata": {},
   "source": [
    "As data scales, the accuracy of all three models increases as data size increases. This is because more information about items/users is added to the data and the models can learn more from it (e.g. the model-based model can form more accurate latent factors). The converage, on the other hand, drops for both baseline and item_based model as the variety of their recommended items does not increase as much as the items in the whole dataset. Here, we see that the model_based model performs much better.\n",
    "As a conclusion, the model-based approach out performs both the item-based and baseline models in both accuracy and coverage measurements."
   ]
  },
  {
   "cell_type": "code",
   "execution_count": 39,
   "metadata": {},
   "outputs": [
    {
     "data": {
      "text/plain": [
       "<matplotlib.text.Text at 0x12dc335d0>"
      ]
     },
     "execution_count": 39,
     "metadata": {},
     "output_type": "execute_result"
    },
    {
     "data": {
      "image/png": "[encoded data removed]",
      "text/plain": [
       "<matplotlib.figure.Figure at 0x126331190>"
      ]
     },
     "metadata": {},
     "output_type": "display_data"
    }
   ],
   "source": [
    "# let's plot out the run time results for all three models as data scales\n",
    "perc_user = perc_range\n",
    "colors=[plt.cm.Spectral(each) for each in np.linspace(0,1,len(perc_range))]\n",
    "\n",
    "plt.figure(figsize = (12,5))\n",
    "for key, value, color in zip(runtime_dict.keys(), runtime_dict.values(), colors):\n",
    "    plt.plot(perc_range, value, label = key, color = color)\n",
    "plt.legend()\n",
    "plt.title('Training Time as Data Scales')\n",
    "plt.xlabel('Percentage of Users Included in Sample')\n",
    "plt.ylabel('Model Training Time (sec)')"
   ]
  },
  {
   "cell_type": "markdown",
   "metadata": {},
   "source": [
    "As shown in the above graph, all three models' runtime increase as the data size increases. The model-based and baseline models' runtimes increase linearly with respect to input size (with the model-based model having a steeper slope) while the item-based model's runtime relative to input size is not as obvious. I would have expected an quadratic curve for the item-based model and to validate this I will increase the sample size in the next part of my project."
   ]
  },
  {
   "cell_type": "markdown",
   "metadata": {},
   "source": [
    "# 7. Takeaways"
   ]
  },
  {
   "cell_type": "markdown",
   "metadata": {
    "collapsed": true
   },
   "source": [
    "#### After seeing the above results about parameter tuning and data size scaling, I have the following takeaways:\n",
    "- Initially, the overall accuracy was very low across all models with the highest accuracy being only 54%. Thus, I revisited the data to design a better way of sampling by continuously controlling the minumum number of ratings for items/users, thus increasing the density level. There might also exist other patterns of the data that can be improved.\n",
    "\n",
    "- Though choosing a higher k parameter in the item-based model increases the accuracy, the coverage is much lower compared to the model-based approach and will result in a longer running time.\n",
    "\n",
    "- After tuning the parameters further, the highest coverage I could attain was 20%. Since that is still very low, I need to consider other models to overcome this problem (e.g. leveraging content based recommendation).\n",
    "\n",
    "- When the data size scales, the coverage rate of item-based model is lowered. We might be able to alleviate this by allowing the system to recommend more items to the users."
   ]
  },
  {
   "cell_type": "markdown",
   "metadata": {},
   "source": [
    "#### Given these takeaways, I might consider some other design choices:\n",
    "\n",
    "- Explore the data more to uncover more patterns in the data: is it chronological ordered, what is the distribution of the users given demographic data, etc.\n",
    "\n",
    "- Throw out outliers based on additional data fields, e.g. for users who have joined less than a week or users who have been on the platform for over years.\n",
    "\n",
    "- I can preserve the similar distributions of my sampled data from the original data by leveraging stratified sampling on users' age, locations, etc. This will help with data scaling because as the data size increases, we can expect the similar properties of the data to persist.\n",
    "\n"
   ]
  },
  {
   "cell_type": "markdown",
   "metadata": {},
   "source": [
    "#### Going back the the business case I illustrated at the beginning of this report, the traditional CF approach can meet the objectives only to a certain extent, for the following reasons:\n",
    "\n",
    "- Given that models can give a 66% accuracy and a 20% coverage in the best case scenario, we can apply it when we can afford to recommend a large number of songs to the user, such as a discovery playlist. This means that 66% of the time, the users can consume our recommendations and they will outperform the baseline.\n",
    "\n",
    "- However, if we want to give a more targeted recommendation (e.g. email campaign, recommend a song to listen next, etc), this accuracy level will not suffice since there is still a significant chance that our recommendation will fail.\n",
    "\n",
    "- This model will also not resolve cold-start problems. Given that the data is very sparse -- a lot of songs are rarely rated and a lot of users have only rated a limited number of songs -- we will run into the cold start problem if we don't exclude those users/songs.\n",
    "\n",
    "- The models seem to scale well since the runtime is linear relative to the input N, where N is the number of unique users. However, the models may scale differently when interpreting N as the number of rows in the dataset depending on data density.\n",
    "\n",
    "\n"
   ]
  },
  {
   "cell_type": "markdown",
   "metadata": {},
   "source": [
    "In Project Part II, I will tackle the problems I mentioned above and incorporate the design considerations to implement an original recommender system"
   ]
  }
 ],
 "metadata": {
  "kernelspec": {
   "display_name": "Python 3",
   "language": "python",
   "name": "python3"
  },
  "language_info": {
   "codemirror_mode": {
    "name": "ipython",
    "version": 3
   },
   "file_extension": ".py",
   "mimetype": "text/x-python",
   "name": "python",
   "nbconvert_exporter": "python",
   "pygments_lexer": "ipython3",
   "version": "3.6.1"
  }
 },
 "nbformat": 4,
 "nbformat_minor": 2
}
