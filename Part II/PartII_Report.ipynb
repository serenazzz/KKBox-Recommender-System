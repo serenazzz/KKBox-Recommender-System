{
 "cells": [
  {
   "cell_type": "markdown",
   "metadata": {},
   "source": [
    "# Project Part II - Exploration of a Modern Recommender System"
   ]
  },
  {
   "cell_type": "markdown",
   "metadata": {},
   "source": [
    "# 0. Introduction"
   ]
  },
  {
   "cell_type": "markdown",
   "metadata": {},
   "source": [
    "Continuing from Part I, I will be leveraging more features and will be exploring a modern recommender system with an emphasis on factorization machine."
   ]
  },
  {
   "cell_type": "markdown",
   "metadata": {},
   "source": [
    "#### The Dataset\n",
    "The dataset I am analyzing is from the [KKBox Music Recommendation Challenge Kaggle Competition](https://www.kaggle.com/c/kkbox-music-recommendation-challenge). For part 1, I was focusing my analysis on three variables in train.csv: user id, song id, and target, where:\n",
    "- target=1: there are recurring listening event(s) triggered within a month after the user’s very first observable listening event. In the interpretation of this practice, it indicates a \"like\".\n",
    "- target=0: otherwise\n",
    "<br><br/>\n",
    "Continuing in part II, I am adding the following potential features into the analysis:\n",
    "<br><br/>\n",
    "User-Item Interaction:\n",
    "- source_type\n",
    "- source_system_tab\n",
    "- source_screen_name\n",
    "<br><br/>\n",
    "Song Information:\n",
    "* song_length\n",
    "* genre_ids\n",
    "* artist_name\n",
    "* language\n",
    "<br><br/>\n",
    "User Information\n",
    "* city\n",
    "* registered_via: registration method\n",
    "<br><br/>\n",
    "Further analysis on this will be included in the data exploration & factorization machine in-depth sections."
   ]
  },
  {
   "cell_type": "markdown",
   "metadata": {},
   "source": [
    "### Objectives"
   ]
  },
  {
   "cell_type": "markdown",
   "metadata": {},
   "source": [
    "Similarly to Part I, I would like to construct a model to predict the likelihood that a user will listen to a song again after hearing it for the first time. (See Part I Final Report for the business interpretation.)\n",
    "\n",
    "My objectives are:\n",
    "- Solve cold start problems that arise from sparse data\n",
    "- Achieve high accuracy of prediction\n",
    "- Fast and scalable solutions"
   ]
  },
  {
   "cell_type": "markdown",
   "metadata": {},
   "source": [
    "# 1. Data Exploration "
   ]
  },
  {
   "cell_type": "markdown",
   "metadata": {},
   "source": [
    "### 1.1 Basic Summary\n",
    "Below is a basic summary of the data set:"
   ]
  },
  {
   "cell_type": "markdown",
   "metadata": {},
   "source": [
    "\n",
    "|categories\t|amount\t |\n",
    "|---\t|---\t|:-:\t|\n",
    "|# of items\t|359966\t | \n",
    "|# of users\t|30755 \t |\n",
    "|# of likes |3714656 |   \n",
    "|# of rows\t|7377418 | \n"
   ]
  },
  {
   "cell_type": "markdown",
   "metadata": {},
   "source": [
    "Low Density & Implicit data\n",
    "- This summary data tells us that the density is only 0.07% and thus we will need to take sparsity into consideration when choosing the model.\n",
    "- We also notice that for those user-item pairs, half were rated like and half not. This is the explicit part of the data. The implicit meaning comes from all the user-item pairs that are not rated. "
   ]
  },
  {
   "cell_type": "markdown",
   "metadata": {},
   "source": [
    "### 1.2 Extra Song & Member Features"
   ]
  },
  {
   "cell_type": "markdown",
   "metadata": {},
   "source": [
    "After conducting summary plots for all features, I have the following findings:\n",
    "- The gender column is highly incomplete (i.e. more than half is unknown)\n",
    "- The birthday column suffers from heavy outliers (Fig 1)\n",
    "- Song artist names column suffers from long tail problem. Though there are 40582 artists, I have found that the top 500 artists take up to 75% songs that were rated. (Fig 2)"
   ]
  },
  {
   "attachments": {},
   "cell_type": "markdown",
   "metadata": {
    "collapsed": true
   },
   "source": [
    "![BD.png](./images/BD.png)"
   ]
  },
  {
   "attachments": {},
   "cell_type": "markdown",
   "metadata": {},
   "source": [
    "![Artist%20Name.png](./images/Artist%20Name.png)"
   ]
  },
  {
   "cell_type": "markdown",
   "metadata": {},
   "source": [
    "Therefore, I have decided to exclude gender and birthday columns at the moment and only include the top 500 artists and set the rest to null values.\n",
    "\n",
    "So far, below are the data fields I wish to include in the model:\n",
    "<br />\n",
    "- msno\n",
    "- song_id\n",
    "- source_system_tab\n",
    "- source_screen_name\n",
    "- source_type\n",
    "- song_length\n",
    "- genre_ids\n",
    "- artist_name\n",
    "- language\n",
    "- city\n",
    "- registrered_via\n",
    "<br />"
   ]
  },
  {
   "cell_type": "markdown",
   "metadata": {},
   "source": [
    "# 2. Approaches"
   ]
  },
  {
   "cell_type": "markdown",
   "metadata": {},
   "source": [
    "As the data is very sparse and has a variety of extra features, Factorization Machine would be agreat fit as it works well on sparse data and captures pair-wise feature interactions. The model equation is as follows:"
   ]
  },
  {
   "cell_type": "markdown",
   "metadata": {},
   "source": [
    "$$y(x)=w_{0}+\\sum_{i=1}^n w_{i}x_{i} + \\sum_{i=1}^n\\sum_{j=i+1}^n x_{i}x_{j}w_{ij}$$\n",
    "where:\n",
    "- w0 is the global bias\n",
    "- wi are the weights for feature vectors xi\n",
    "<Br><Br>\n",
    "After transforming the data into the sparse matrix, my input for factorization machine looks something like below:"
   ]
  },
  {
   "cell_type": "markdown",
   "metadata": {},
   "source": [
    "\n",
    "|msno1|msno2|...|song_id1|song_id2|...|local_library|search|...|Song_Length|Genre_id1|Genre_id2|...|City_1|City_2|...|Artist_1|Artist_2|...|\n",
    "|---|---|:-:|---|---|---|---|---|---|---|---|---|---|---|---|\n",
    "|1|0|...|0|0|1|0|0|...|213681|0|0|...|0|1|...|0|0|...|\n",
    "|0|1|...|0|0|0|0|1|...|179044|0|0|...|0|0|...|0|0|...|\n",
    "|0|0|...|0|0|0|0|0|...|.....|0|0|...|1|0|...|0|0|...|  \n",
    "|0|0|...|1|0|1|0|0|...|.....|0|0|...|0|0|...|0|0|...|\n",
    "<Br>\n",
    "I will be analyzing the best combination of features in the next section."
   ]
  },
  {
   "cell_type": "markdown",
   "metadata": {},
   "source": [
    "As the data is binary, I will also add an additional logistic regression on top of the traditional FM regression as a final step. I am intested in comparing this result with the FM Classification results."
   ]
  },
  {
   "cell_type": "markdown",
   "metadata": {},
   "source": [
    "# 3. Factorization Machine in Depth"
   ]
  },
  {
   "cell_type": "markdown",
   "metadata": {},
   "source": [
    "### 3.1 Baseline"
   ]
  },
  {
   "cell_type": "markdown",
   "metadata": {},
   "source": [
    "As a first step, I am only feeding the user, song, and target fields into the model. This will be my baseline model. "
   ]
  },
  {
   "cell_type": "markdown",
   "metadata": {},
   "source": [
    "### 3.2 Extending the Model by Adding Side information"
   ]
  },
  {
   "cell_type": "markdown",
   "metadata": {},
   "source": [
    "As a next step, I am adding each extra feature one at a time and evaluating it based on roc_auc to decide whether to include the feature or not. If the performance has gone down, I might be overfitting and thus should exclude the feature. As a result, adding the following features has increased the accuracy respectively, thus forms an optimal feature combination:\n",
    "'source_screen_name', 'source_type', 'source_system_tab', 'genre_ids', 'artist_name', 'language'"
   ]
  },
  {
   "cell_type": "markdown",
   "metadata": {},
   "source": [
    "### 3.3 Tuning Parameters"
   ]
  },
  {
   "cell_type": "markdown",
   "metadata": {},
   "source": [
    "For FM Classification problems, there are 2 solvers I can choose from: Stochastic gradient descent and Markov chain Monte Carlo. After running them seperately, I have found that the mcmc solver performs higher than sgd and thus decided to continue with mcmc.\n",
    "\n",
    "|  param | accuracy  |precision|recall|auc|\n",
    "|---|---|:-:|---|---|\n",
    "|sgd|0.582|0.557| 0.847  | 0.648656  |\n",
    "| mcmc  |  0.728 |  0.738 | 0.716  |0.809248   |\n"
   ]
  },
  {
   "cell_type": "markdown",
   "metadata": {},
   "source": [
    "The advantage of the mcmc solver is that the regularization parameters do not need to be specified, which saves the work of finding the optimal parameters. However, one drawback of mcmc is that this requires fitting and predicting at the same time, which might not be optimal for production use."
   ]
  },
  {
   "cell_type": "markdown",
   "metadata": {},
   "source": [
    "After tuning the rank parameter for mcmc, I have found that when rank=9, the highest performance is achieved:"
   ]
  },
  {
   "cell_type": "markdown",
   "metadata": {},
   "source": [
    "|param|\taccuracy|\tprecision|\trecall|\tauc|\n",
    "|---|---|:-:|---|---|\n",
    "|6|0.722\t|0.732|\t0.712\t|0.804020|\n",
    "|7\t|0.725\t|0.737\t|0.712\t|0.806057|\n",
    "|8|\t0.728|\t0.738|\t0.716|\t0.809248|\n",
    "|9|\t0.727|\t0.738|\t0.714|\t0.808353|\n",
    "|10|\t0.730|\t0.740|\t0.720|\t0.811439 |\n"
   ]
  },
  {
   "attachments": {},
   "cell_type": "markdown",
   "metadata": {},
   "source": [
    "![Rank%20Plot.png](./images/Rank%20Plot.png)"
   ]
  },
  {
   "cell_type": "markdown",
   "metadata": {},
   "source": [
    "# 4. Evaluation"
   ]
  },
  {
   "cell_type": "markdown",
   "metadata": {},
   "source": [
    "### 4.1 Popular Users/Items vs Normal Sampling"
   ]
  },
  {
   "cell_type": "markdown",
   "metadata": {},
   "source": [
    "To futher explore the model, I would like to know if it works better on more popular items/users or normal data. To test this, I first need to segment the popular users & items by setting a threshold of 50 (i.e. a song or user is considered popular only if it has been rated by more than 50 users or the user has rated more than 50 songs, respectively). Another segment would be normal sampling from the dataset, where the density is much lower than the previous popular segment. \n",
    "After training and testing on both segments, I have achieved the following:\n"
   ]
  },
  {
   "cell_type": "markdown",
   "metadata": {},
   "source": [
    "|  param | accuracy  |precision|recall|auc|\n",
    "|---|---|:-:|---|---|\n",
    "|popular|0.718|0.734|  0.738 | 0.7966639627648082 |\n",
    "|normal|  0.728 |  0.738 | 0.716  |0.809248   |"
   ]
  },
  {
   "cell_type": "markdown",
   "metadata": {},
   "source": [
    "Surprisingly, normal segment outperforms the popular segment by a very small amount though the popular segment has a higher recall score. This indicates a positive signal to the business: as the data from real business world always tend to be very sparse, the factorization machine model is indeed an optimal resolution to the problem."
   ]
  },
  {
   "cell_type": "markdown",
   "metadata": {
    "collapsed": true
   },
   "source": [
    "### 4.2 Baseline Vs FM Classification Vs Hybrid (FM+LogisticRegression)"
   ]
  },
  {
   "cell_type": "markdown",
   "metadata": {},
   "source": [
    "Comparing the three approaches introduced earlier in section 2, below are the results:"
   ]
  },
  {
   "cell_type": "markdown",
   "metadata": {},
   "source": [
    "|  param | accuracy  |precision|recall|auc|\n",
    "|---|---|:-:|---|---|\n",
    "|baseline|0.666|0.674|  0.652| 0.7297111845084528 |\n",
    "|FM Classification|  0.728 |  0.738 | 0.716  |0.809248   |\n",
    "|FM Regression+Logistic Regression|0.736| 0.743| 0.734| 0.7364705556528766|\n"
   ]
  },
  {
   "cell_type": "markdown",
   "metadata": {},
   "source": [
    "As shown above, both the second and third approaches outperforms the baseline where only user, item, and rating fields are treated as inputs.\n",
    "The FastFM Classification approach achieves an auc score as high as 80.9% while the FM regression+logistic regression approach has only a 73.6% auc score. However, the latter one has the highest accuracy, precision, and recall scores of 0.736, 0.743, and 0.734 respectively."
   ]
  },
  {
   "cell_type": "markdown",
   "metadata": {},
   "source": [
    "From a business perspective, I would resort to the second approach since it's a one step approach compared to the third one and it has the highest auc score with insignificant decreases on the other three metrics."
   ]
  },
  {
   "cell_type": "markdown",
   "metadata": {},
   "source": [
    "# 5. Limitations & Future Consideration"
   ]
  },
  {
   "cell_type": "markdown",
   "metadata": {},
   "source": [
    "### Limitations:"
   ]
  },
  {
   "cell_type": "markdown",
   "metadata": {},
   "source": [
    "- Due to training heavily on historical data, when there is a new user/item added, the model needs to be trained again and is therefore less dynamic.\n",
    "- The current mcmc solver does not separate training and predicting, which might be a serious problem when used in practice (training large scale data might take long time and we would not want to repeat that everytime we need to make a prediction).\n",
    "- Though the model predicts the probability of whether a user would listen to a specific song with high accuracy, the model does not automatically generate a good combination of songs to recommend to users since it first requires input. In other words, one would first need to feed the song selections to the model and ask it to decide the probabilities whether the user will like the song.\n"
   ]
  },
  {
   "cell_type": "markdown",
   "metadata": {
    "collapsed": true
   },
   "source": [
    "### Further Explorations:"
   ]
  },
  {
   "cell_type": "markdown",
   "metadata": {},
   "source": [
    "- Due to the nature of the data and the model, I have not explored evaluation metrics other than accuracy types as the model simply predicts the rating given fixed user-song pair. In the future, I might be able to conduct a hybrid model where factorization machine together with another model (e.g. CF) generating recommended lists of songs for each user. There, it’ll be more valuable for me to explore other metrics such as serendipity, coverage etc.\n",
    "- As I did not include some data fields (member age, birthday, etc.) in my model at this time, I can explore feature engineering for those fields in the future (e.g. process and add in member duration time, birthday, age, etc;NLP for song lyrics etc.)"
   ]
  },
  {
   "cell_type": "markdown",
   "metadata": {},
   "source": [
    "# Final Note"
   ]
  },
  {
   "cell_type": "markdown",
   "metadata": {},
   "source": [
    "It has been a fun journey exploring recommender systems with professor Brett and our TA Barbara. I not only learned how they work in theory but also learned the advantages and pitfalls when using them in practice. Being in a team of 1 was very challenging yet rewarding. (Please go easy on me :p) Thank you for an awesome semester!"
   ]
  }
 ],
 "metadata": {
  "kernelspec": {
   "display_name": "Python 3",
   "language": "python",
   "name": "python3"
  },
  "language_info": {
   "codemirror_mode": {
    "name": "ipython",
    "version": 3
   },
   "file_extension": ".py",
   "mimetype": "text/x-python",
   "name": "python",
   "nbconvert_exporter": "python",
   "pygments_lexer": "ipython3",
   "version": "3.6.1"
  }
 },
 "nbformat": 4,
 "nbformat_minor": 2
}
