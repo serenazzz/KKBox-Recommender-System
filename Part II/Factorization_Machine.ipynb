{
 "cells": [
  {
   "cell_type": "code",
   "execution_count": 1,
   "metadata": {
    "collapsed": true
   },
   "outputs": [],
   "source": [
    "from fastFM import mcmc\n",
    "from fastFM import sgd\n",
    "import pandas as pd\n",
    "from sklearn.model_selection import train_test_split\n",
    "from sklearn.metrics import roc_auc_score\n",
    "from sklearn.feature_extraction import DictVectorizer\n",
    "from scipy import sparse\n",
    "import numpy as np\n",
    "import matplotlib.pyplot as plt\n",
    "import seaborn as sns\n",
    "%matplotlib inline\n",
    "sns.set(style=\"whitegrid\")"
   ]
  },
  {
   "cell_type": "code",
   "execution_count": 2,
   "metadata": {
    "collapsed": true
   },
   "outputs": [],
   "source": [
    "df_normal= pd.read_pickle('/Users/serenazhang/Desktop/personalization project/project/Part II/df_normal')\n",
    "df_popular = pd.read_pickle('/Users/serenazhang/Desktop/personalization project/project/Part II/df_popular')"
   ]
  },
  {
   "cell_type": "code",
   "execution_count": 3,
   "metadata": {
    "collapsed": true
   },
   "outputs": [],
   "source": [
    "columns=(\"msno\",\"song_id\",\"source_screen_name\",\"source_type\",\"source_system_tab\",\"city\",\n",
    "         \"genre_ids\",\"artist_name\",\"registered_via\",\"language\")\n",
    "x_train,x_test,y_train,y_test=train_test_split(df_normal.loc[:,columns],\n",
    "                                               df_normal.loc[:,\"ztarget\"],test_size=0.2)\n",
    "px_train,px_test,py_train,py_test=train_test_split(df_popular.loc[:,columns],\n",
    "                                               df_popular.loc[:,\"ztarget\"],test_size=0.2)\n"
   ]
  },
  {
   "cell_type": "code",
   "execution_count": 4,
   "metadata": {
    "collapsed": true
   },
   "outputs": [],
   "source": [
    "def train_test(data,xtr,xtes,ytr,ytest,featurelist):\n",
    "    temp=data.copy()\n",
    "    for i in columns:\n",
    "        if i==\"song_length\":\n",
    "            continue\n",
    "        if i ==\"artist_name\":\n",
    "            k=\"Various Artists\"\n",
    "            temp.loc[temp[i]==\"unknown\",i]=k\n",
    "        elif any(temp[i] == \"unknown\")==True:\n",
    "            k= temp[i].value_counts().idxmax()\n",
    "            temp.loc[temp[i]==\"unknown\",i]=k\n",
    "    #vectorize to sparse matrix\n",
    "    vectorizer = DictVectorizer()\n",
    "    temp=temp.loc[:,featurelist].to_dict(orient=\"record\")\n",
    "    vectorizer.fit(temp)\n",
    "    temp1=xtr.to_dict(orient=\"record\")\n",
    "    temp2=xtes.to_dict(orient=\"record\")\n",
    "    xtrain= vectorizer.transform(temp1)\n",
    "    xtest=vectorizer.transform(temp2)\n",
    "    result=[xtrain,xtest,ytr,ytest]\n",
    "    return result"
   ]
  },
  {
   "cell_type": "markdown",
   "metadata": {},
   "source": [
    "# Baseline"
   ]
  },
  {
   "cell_type": "code",
   "execution_count": 10,
   "metadata": {},
   "outputs": [
    {
     "name": "stdout",
     "output_type": "stream",
     "text": [
      "accuracy precision recall auc\n",
      "[0.666, 0.674, 0.652, 0.7297111845084528]\n"
     ]
    }
   ],
   "source": [
    "normal_list=train_test(df_normal,x_train,x_test,y_train,y_test,(\"msno\",\"song_id\"))\n",
    "xtrain=normal_list[0]\n",
    "xtest=normal_list[1]\n",
    "ytrain=normal_list[2]\n",
    "base_mcmc=mcmc.FMClassification(n_iter=100, rank=8, init_stdev=0.1)\n",
    "pred=base_mcmc.fit_predict_proba(xtrain, ytrain, xtest)\n",
    "print(\"accuracy\",\"precision\",\"recall\",\"auc\")\n",
    "print(evaluate(pred,y_test,0.5))"
   ]
  },
  {
   "cell_type": "markdown",
   "metadata": {},
   "source": [
    "# Finding the Best Features"
   ]
  },
  {
   "cell_type": "code",
   "execution_count": 6,
   "metadata": {},
   "outputs": [
    {
     "name": "stdout",
     "output_type": "stream",
     "text": [
      "===== Starting Feature: source_screen_name ======\n",
      "current roc: 0.790733232324\n",
      "===== Starting Feature: source_type ======\n",
      "current roc: 0.798606564065\n",
      "===== Starting Feature: source_system_tab ======\n",
      "current roc: 0.799562716334\n",
      "===== Starting Feature: city ======\n",
      "current roc: 0.798909810122\n",
      "city is not going to be included\n",
      "===== Starting Feature: genre_ids ======\n",
      "current roc: 0.801783134985\n",
      "===== Starting Feature: artist_name ======\n",
      "current roc: 0.804875897525\n",
      "===== Starting Feature: registered_via ======\n",
      "current roc: 0.803133127304\n",
      "registered_via is not going to be included\n",
      "===== Starting Feature: language ======\n",
      "current roc: 0.809248413698\n",
      "['msno', 'song_id', 'source_screen_name', 'source_type', 'source_system_tab', 'genre_ids', 'artist_name', 'language']\n"
     ]
    }
   ],
   "source": [
    "prev=baseline\n",
    "base_features=[\"msno\",\"song_id\"]\n",
    "features=(\"source_screen_name\",\"source_type\",\"source_system_tab\",\"city\",\n",
    "         \"genre_ids\",\"artist_name\",\"registered_via\",\"language\")\n",
    "\n",
    "for i in features:\n",
    "    base_features.append(i)\n",
    "    print(\"===== Starting Feature:\",i,\"======\")\n",
    "    normal_list=train_test(df_normal,x_train,x_test,y_train,y_test,tuple(base_features))\n",
    "    xtrain=normal_list[0]\n",
    "    xtest=normal_list[1]\n",
    "    ytrain=normal_list[2]\n",
    "    ytest=normal_list[3]\n",
    "    \n",
    "    mcmcmodel=mcmc.FMClassification(n_iter=100, rank=8, init_stdev=0.1)\n",
    "    pred=mcmcmodel.fit_predict_proba(xtrain, ytrain, xtest)\n",
    "    current_roc=roc_auc_score(ytest, pred)\n",
    "    print(\"current roc:\",current_roc)\n",
    "    \n",
    "    if current_roc<=prev:\n",
    "        deleted=base_features.pop()\n",
    "        print(deleted,\"is not going to be included\")\n",
    "    else:\n",
    "        prev=current_roc\n",
    "print(base_features)"
   ]
  },
  {
   "cell_type": "markdown",
   "metadata": {},
   "source": [
    "# Tuning Parameters"
   ]
  },
  {
   "cell_type": "markdown",
   "metadata": {},
   "source": [
    "- solver: sgd or mcmc\n",
    "- rank: [2,3,4,5,6,7,8]"
   ]
  },
  {
   "cell_type": "code",
   "execution_count": 7,
   "metadata": {
    "collapsed": true
   },
   "outputs": [],
   "source": [
    "def cal_accuracy(rating,pred):\n",
    "    correct_count = 0\n",
    "    true_positive = 0\n",
    "    positive_pred = 0\n",
    "    positive_rating = 0\n",
    "    for i in range(len(rating)):\n",
    "        if pred[i] == rating[i]:\n",
    "            correct_count += 1.0\n",
    "        if rating[i] == 1 and pred[i] == 1:\n",
    "            true_positive +=  1.0\n",
    "        if pred[i] == 1:\n",
    "            positive_pred += 1.0\n",
    "        if rating[i] == 1:\n",
    "            positive_rating += 1.0\n",
    "    \n",
    "    accuracy = float(\"{0:.3f}\".format(correct_count / len(rating)))\n",
    "    #to avoid division by zero error\n",
    "    if positive_pred==0:\n",
    "        precision=0\n",
    "    else:\n",
    "        precision = float(\"{0:.3f}\".format(true_positive / positive_pred))\n",
    "    recall = float(\"{0:.3f}\".format(true_positive / positive_rating))\n",
    "    return [accuracy,precision,recall]"
   ]
  },
  {
   "cell_type": "code",
   "execution_count": 8,
   "metadata": {
    "collapsed": true
   },
   "outputs": [],
   "source": [
    "def evaluate(pred,ytest,threshold):\n",
    "    binary_pred = [1 if i> threshold else -1 for i in pred]\n",
    "    ytest=ytest.tolist()\n",
    "    result=[i for i in cal_accuracy(ytest,binary_pred)]\n",
    "\n",
    "    result.append(float(roc_auc_score(ytest, pred)))\n",
    "    return result"
   ]
  },
  {
   "cell_type": "code",
   "execution_count": 9,
   "metadata": {
    "collapsed": true
   },
   "outputs": [],
   "source": [
    "def evaluate_param(solver,rank,threshold):\n",
    "    if type(rank) is list:\n",
    "        param=rank\n",
    "        eval=np.zeros(shape=(len(rank),4))\n",
    "        for i in range(0,len(rank)):\n",
    "            if solver==\"sgd\":\n",
    "                model=sgd.FMClassification(n_iter=100, rank=rank[i])\n",
    "                model.fit(xtrain,ytrain)\n",
    "                pred=model.predict_proba(xtest)\n",
    "                eval[i]= evaluate(pred,ytest,threshold)\n",
    "            else:\n",
    "                model=mcmc.FMClassification(n_iter=100, rank=rank[i])\n",
    "                pred=model.fit_predict_proba(xtrain, ytrain, xtest)\n",
    "                eval[i]= evaluate(pred,ytest,threshold)\n",
    "    elif type(solver) is list:\n",
    "        param=solver\n",
    "        eval=np.zeros(shape=(len(solver),4))\n",
    "        for i in solver:\n",
    "            if i==\"sgd\":\n",
    "                model=sgd.FMClassification(n_iter=100, rank=8)\n",
    "                model.fit(xtrain,ytrain)\n",
    "                pred=model.predict_proba(xtest)\n",
    "                eval[0]= evaluate(pred,ytest,threshold)\n",
    "            else:\n",
    "                model=mcmc.FMClassification(n_iter=100, rank=8)\n",
    "                pred=model.fit_predict_proba(xtrain, ytrain, xtest)\n",
    "                eval[1]= evaluate(pred,ytest,threshold)\n",
    "        \n",
    "\n",
    "    df_param=pd.DataFrame({\"param\":param,\"accuracy\": eval[:,0],\"precision\":eval[:,1],\n",
    "                           \"recall\":eval[:,2],\"auc\":eval[:,3]})\n",
    "    df_param=df_param[[\"param\",\"accuracy\",\"precision\",\"recall\",\"auc\"]]\n",
    "    return df_param"
   ]
  },
  {
   "cell_type": "code",
   "execution_count": 10,
   "metadata": {
    "collapsed": true
   },
   "outputs": [],
   "source": [
    "solver_df=evaluate_param([\"sgd\",\"mcmc\"],8,0.5)"
   ]
  },
  {
   "cell_type": "code",
   "execution_count": 11,
   "metadata": {},
   "outputs": [
    {
     "data": {
      "text/html": [
       "<div>\n",
       "<style>\n",
       "    .dataframe thead tr:only-child th {\n",
       "        text-align: right;\n",
       "    }\n",
       "\n",
       "    .dataframe thead th {\n",
       "        text-align: left;\n",
       "    }\n",
       "\n",
       "    .dataframe tbody tr th {\n",
       "        vertical-align: top;\n",
       "    }\n",
       "</style>\n",
       "<table border=\"1\" class=\"dataframe\">\n",
       "  <thead>\n",
       "    <tr style=\"text-align: right;\">\n",
       "      <th></th>\n",
       "      <th>param</th>\n",
       "      <th>accuracy</th>\n",
       "      <th>precision</th>\n",
       "      <th>recall</th>\n",
       "      <th>auc</th>\n",
       "    </tr>\n",
       "  </thead>\n",
       "  <tbody>\n",
       "    <tr>\n",
       "      <th>0</th>\n",
       "      <td>sgd</td>\n",
       "      <td>0.582</td>\n",
       "      <td>0.557</td>\n",
       "      <td>0.847</td>\n",
       "      <td>0.648656</td>\n",
       "    </tr>\n",
       "    <tr>\n",
       "      <th>1</th>\n",
       "      <td>mcmc</td>\n",
       "      <td>0.728</td>\n",
       "      <td>0.738</td>\n",
       "      <td>0.716</td>\n",
       "      <td>0.809248</td>\n",
       "    </tr>\n",
       "  </tbody>\n",
       "</table>\n",
       "</div>"
      ],
      "text/plain": [
       "  param  accuracy  precision  recall       auc\n",
       "0   sgd     0.582      0.557   0.847  0.648656\n",
       "1  mcmc     0.728      0.738   0.716  0.809248"
      ]
     },
     "execution_count": 11,
     "metadata": {},
     "output_type": "execute_result"
    }
   ],
   "source": [
    "solver_df"
   ]
  },
  {
   "cell_type": "code",
   "execution_count": 12,
   "metadata": {
    "collapsed": true
   },
   "outputs": [],
   "source": [
    "rank_df=evaluate_param(\"mcmc\",[6,7,8,9,10],0.5)"
   ]
  },
  {
   "cell_type": "code",
   "execution_count": 13,
   "metadata": {},
   "outputs": [
    {
     "data": {
      "text/html": [
       "<div>\n",
       "<style>\n",
       "    .dataframe thead tr:only-child th {\n",
       "        text-align: right;\n",
       "    }\n",
       "\n",
       "    .dataframe thead th {\n",
       "        text-align: left;\n",
       "    }\n",
       "\n",
       "    .dataframe tbody tr th {\n",
       "        vertical-align: top;\n",
       "    }\n",
       "</style>\n",
       "<table border=\"1\" class=\"dataframe\">\n",
       "  <thead>\n",
       "    <tr style=\"text-align: right;\">\n",
       "      <th></th>\n",
       "      <th>param</th>\n",
       "      <th>accuracy</th>\n",
       "      <th>precision</th>\n",
       "      <th>recall</th>\n",
       "      <th>auc</th>\n",
       "    </tr>\n",
       "  </thead>\n",
       "  <tbody>\n",
       "    <tr>\n",
       "      <th>0</th>\n",
       "      <td>6</td>\n",
       "      <td>0.722</td>\n",
       "      <td>0.732</td>\n",
       "      <td>0.712</td>\n",
       "      <td>0.804020</td>\n",
       "    </tr>\n",
       "    <tr>\n",
       "      <th>1</th>\n",
       "      <td>7</td>\n",
       "      <td>0.725</td>\n",
       "      <td>0.737</td>\n",
       "      <td>0.712</td>\n",
       "      <td>0.806057</td>\n",
       "    </tr>\n",
       "    <tr>\n",
       "      <th>2</th>\n",
       "      <td>8</td>\n",
       "      <td>0.728</td>\n",
       "      <td>0.738</td>\n",
       "      <td>0.716</td>\n",
       "      <td>0.809248</td>\n",
       "    </tr>\n",
       "    <tr>\n",
       "      <th>3</th>\n",
       "      <td>9</td>\n",
       "      <td>0.727</td>\n",
       "      <td>0.738</td>\n",
       "      <td>0.714</td>\n",
       "      <td>0.808353</td>\n",
       "    </tr>\n",
       "    <tr>\n",
       "      <th>4</th>\n",
       "      <td>10</td>\n",
       "      <td>0.730</td>\n",
       "      <td>0.740</td>\n",
       "      <td>0.720</td>\n",
       "      <td>0.811439</td>\n",
       "    </tr>\n",
       "  </tbody>\n",
       "</table>\n",
       "</div>"
      ],
      "text/plain": [
       "   param  accuracy  precision  recall       auc\n",
       "0      6     0.722      0.732   0.712  0.804020\n",
       "1      7     0.725      0.737   0.712  0.806057\n",
       "2      8     0.728      0.738   0.716  0.809248\n",
       "3      9     0.727      0.738   0.714  0.808353\n",
       "4     10     0.730      0.740   0.720  0.811439"
      ]
     },
     "execution_count": 13,
     "metadata": {},
     "output_type": "execute_result"
    }
   ],
   "source": [
    "rank_df"
   ]
  },
  {
   "cell_type": "code",
   "execution_count": 14,
   "metadata": {},
   "outputs": [
    {
     "data": {
      "image/png": "[encoded data removed]",
      "text/plain": [
       "<matplotlib.figure.Figure at 0x122f8a860>"
      ]
     },
     "metadata": {},
     "output_type": "display_data"
    }
   ],
   "source": [
    "fig, axes = plt.subplots(1,2, figsize = (12,5))\n",
    "# plotting metrics as rank changes\n",
    "axes[0].plot(rank_df[\"param\"], rank_df[\"accuracy\"], color=\"red\",label=\"accuracy\")\n",
    "ax2 = axes[0].twinx()\n",
    "ax2.plot(rank_df[\"param\"], rank_df[\"auc\"],color=\"green\",label=\"auc\")\n",
    "ax2.set_ylabel('auc')\n",
    "axes[0].set( xlabel = \"rank\", ylabel = \"accuracy\")\n",
    "\n",
    "# plotting metrics given different similarity types\n",
    "x_axis=np.arange(len(solver_df[\"param\"]))\n",
    "axes[1].bar(x_axis, solver_df[\"accuracy\"], width=0.5,color=\"red\",align=\"center\",label=\"accuracy\")\n",
    "ax3 = axes[1].twinx()\n",
    "ax3.bar(x_axis, solver_df[\"auc\"],width=0.5,color=\"green\",align=\"edge\",label=\"auc\")\n",
    "axes[1].set_xticks(x_axis)\n",
    "axes[1].set_xticklabels(solver_df[\"param\"])\n",
    "ax3.set_ylabel('auc')\n",
    "axes[1].set( xlabel = \"solver_type\", ylabel = \"accuracy\")\n",
    "axes[0].legend()\n",
    "axes[1].legend()\n",
    "plt.tight_layout()"
   ]
  },
  {
   "cell_type": "markdown",
   "metadata": {},
   "source": [
    "# Model Performance on Popular Users&Items"
   ]
  },
  {
   "cell_type": "code",
   "execution_count": 15,
   "metadata": {
    "collapsed": true
   },
   "outputs": [],
   "source": [
    "popular_list=train_test(df_popular,px_train,px_test,py_train,py_test,tuple(['msno', 'song_id', \n",
    "                                                                           'source_screen_name', 'source_type', \n",
    "                                                                           'source_system_tab', 'city', \n",
    "                                                                           'genre_ids', 'artist_name', 'language']))\n",
    "xtrain=popular_list[0]\n",
    "xtest=popular_list[1]\n",
    "ytrain=popular_list[2]\n",
    "ytest=popular_list[3]"
   ]
  },
  {
   "cell_type": "code",
   "execution_count": 16,
   "metadata": {
    "collapsed": true
   },
   "outputs": [],
   "source": [
    "mcmcmodel=mcmc.FMClassification(n_iter=100, rank=9, init_stdev=0.1)\n",
    "pred=mcmcmodel.fit_predict_proba(xtrain, ytrain, xtest)\n"
   ]
  },
  {
   "cell_type": "code",
   "execution_count": 17,
   "metadata": {},
   "outputs": [
    {
     "name": "stdout",
     "output_type": "stream",
     "text": [
      "accuracy precision recall auc\n",
      "[0.718, 0.734, 0.738, 0.7966639627648082]\n",
      "0.728 0.735 0.722 0.808859\n"
     ]
    }
   ],
   "source": [
    "print(\"accuracy\",\"precision\",\"recall\",\"auc\")\n",
    "print(evaluate(pred,ytest,0.5))\n",
    "print(0.728,0.735,0.722,0.808859)"
   ]
  },
  {
   "cell_type": "markdown",
   "metadata": {},
   "source": [
    "# Fitting a Logistic Regression in the end"
   ]
  },
  {
   "cell_type": "code",
   "execution_count": 55,
   "metadata": {
    "collapsed": true
   },
   "outputs": [],
   "source": [
    "xtrain=normal_list[0]\n",
    "xtest=normal_list[1]\n",
    "ytrain=normal_list[2]\n",
    "ytest=normal_list[3]"
   ]
  },
  {
   "cell_type": "code",
   "execution_count": 56,
   "metadata": {
    "collapsed": true
   },
   "outputs": [],
   "source": [
    "from sklearn.linear_model import LogisticRegression\n",
    "model=mcmc.FMRegression(n_iter=100, rank=9)\n",
    "predtrain=model.fit_predict(xtrain, ytrain, xtrain)\n",
    "pred=model.fit_predict(xtrain, ytrain, xtest)\n"
   ]
  },
  {
   "cell_type": "code",
   "execution_count": 57,
   "metadata": {
    "collapsed": true
   },
   "outputs": [],
   "source": [
    "ytrain=ytrain.tolist()"
   ]
  },
  {
   "cell_type": "code",
   "execution_count": 58,
   "metadata": {},
   "outputs": [
    {
     "data": {
      "text/plain": [
       "LogisticRegression(C=1.0, class_weight=None, dual=False, fit_intercept=True,\n",
       "          intercept_scaling=1, max_iter=100, multi_class='ovr', n_jobs=1,\n",
       "          penalty='l2', random_state=None, solver='liblinear', tol=0.0001,\n",
       "          verbose=0, warm_start=False)"
      ]
     },
     "execution_count": 58,
     "metadata": {},
     "output_type": "execute_result"
    }
   ],
   "source": [
    "LogReg = LogisticRegression()\n",
    "LogReg.fit(predtrain.reshape(-1,1), ytrain)"
   ]
  },
  {
   "cell_type": "code",
   "execution_count": 59,
   "metadata": {
    "collapsed": true
   },
   "outputs": [],
   "source": [
    "log_pred = LogReg.predict(pred.reshape(-1,1))"
   ]
  },
  {
   "cell_type": "code",
   "execution_count": 60,
   "metadata": {},
   "outputs": [
    {
     "name": "stdout",
     "output_type": "stream",
     "text": [
      "accuracy precision recall auc\n",
      "[0.736, 0.743, 0.734, 0.7364705556528766]\n",
      "0.728 0.735 0.722 0.808859\n"
     ]
    }
   ],
   "source": [
    "print(\"accuracy\",\"precision\",\"recall\",\"auc\")\n",
    "print(evaluate(log_pred,y_test,0.5))\n",
    "print(0.728,0.735,0.722,0.808859)"
   ]
  },
  {
   "cell_type": "code",
   "execution_count": null,
   "metadata": {
    "collapsed": true
   },
   "outputs": [],
   "source": []
  }
 ],
 "metadata": {
  "kernelspec": {
   "display_name": "Python 3",
   "language": "python",
   "name": "python3"
  },
  "language_info": {
   "codemirror_mode": {
    "name": "ipython",
    "version": 3
   },
   "file_extension": ".py",
   "mimetype": "text/x-python",
   "name": "python",
   "nbconvert_exporter": "python",
   "pygments_lexer": "ipython3",
   "version": "3.6.1"
  }
 },
 "nbformat": 4,
 "nbformat_minor": 2
}
