{
 "cells": [
  {
   "cell_type": "markdown",
   "metadata": {},
   "source": [
    "# Project Part II Outline\n"
   ]
  },
  {
   "cell_type": "markdown",
   "metadata": {},
   "source": [
    "#### Project Choice:\n",
    "   I will choose option A: Gain practical experience with modern personalization frameworks and algorithms"
   ]
  },
  {
   "cell_type": "markdown",
   "metadata": {},
   "source": [
    "#### Group member: \n",
    "   Serena Zhang"
   ]
  },
  {
   "cell_type": "markdown",
   "metadata": {},
   "source": [
    "#### The data set:\n",
    "For Part II, I will take in more fields in the original data set, which includes:\n",
    "   - source of user-song interaction\n",
    "   - user's demographic data\n",
    "   - song's meta data\n"
   ]
  },
  {
   "cell_type": "markdown",
   "metadata": {},
   "source": [
    "#### The approaches:"
   ]
  },
  {
   "cell_type": "markdown",
   "metadata": {},
   "source": [
    "Leveraging these additional data, I want to implement the following improvements to my models:\n",
    "- sampling:\n",
    "    - stratified sampling to maintain similar distribution of original data\n",
    "    - throw away outliers for users based on their registration time\n",
    "- models - a hybrid approach:\n",
    "    - modern_item_based:\n",
    "        - add in the time parameter (when the song is rated) to assign a more accurate weight to each item/user \n",
    "        - Leverage approximate nearest neighbors techniques\n",
    "    - content-based model to solve the cold start problem, where song's lyrics, name and year will be leveraged\n",
    "    - other ML approaches (SVM, random forest etc.)\n",
    "- metrics:\n",
    "    As the dataset is obtained from an ongoing kaggle competition, I would like to use the same metric that gets evaluated in the competition: AUC.\n",
    "    \n",
    " "
   ]
  },
  {
   "cell_type": "markdown",
   "metadata": {},
   "source": [
    "#### Project Timeline:\n",
    "   - week 1: data clearning and exploration, data sampling\n",
    "   - week 2: improved item-based model research and implementation\n",
    "   - week 3: content-based model research and implementation\n",
    "   - week 4: other ML approaches research and implement hybrid approach\n",
    "   - week 5: tuning parameters and write ups\n",
    "   "
   ]
  }
 ],
 "metadata": {
  "kernelspec": {
   "display_name": "Python 2",
   "language": "python",
   "name": "python2"
  },
  "language_info": {
   "codemirror_mode": {
    "name": "ipython",
    "version": 2
   },
   "file_extension": ".py",
   "mimetype": "text/x-python",
   "name": "python",
   "nbconvert_exporter": "python",
   "pygments_lexer": "ipython2",
   "version": "2.7.11"
  }
 },
 "nbformat": 4,
 "nbformat_minor": 0
}
