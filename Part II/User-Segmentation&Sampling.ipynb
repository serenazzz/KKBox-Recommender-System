{
 "cells": [
  {
   "cell_type": "code",
   "execution_count": 1,
   "metadata": {
    "collapsed": true
   },
   "outputs": [],
   "source": [
    "import pandas as pd\n",
    "from sklearn.model_selection import train_test_split\n",
    "from sklearn.metrics import roc_auc_score\n",
    "from sklearn.feature_extraction import DictVectorizer\n",
    "import seaborn as sns\n",
    "import random\n",
    "import matplotlib.pyplot as plt\n",
    "%matplotlib inline\n",
    "sns.set(style='whitegrid')"
   ]
  },
  {
   "cell_type": "code",
   "execution_count": 6,
   "metadata": {
    "collapsed": true
   },
   "outputs": [],
   "source": [
    "df = pd.read_pickle('/Users/serenazhang/Desktop/personalization project/project/Part II/df_all')"
   ]
  },
  {
   "cell_type": "code",
   "execution_count": 7,
   "metadata": {
    "collapsed": true
   },
   "outputs": [],
   "source": [
    "df.loc[df.ztarget == 0, ('ztarget')] = -1"
   ]
  },
  {
   "cell_type": "code",
   "execution_count": 8,
   "metadata": {
    "collapsed": true
   },
   "outputs": [],
   "source": [
    "def popular_user_items(dataframe,min_user_per_item_thr,min_item_per_user_thr):\n",
    "    min_user_per_item=0\n",
    "    min_item_per_user=0\n",
    "    count=1\n",
    "    while min_user_per_item<min_user_per_item_thr and min_item_per_user<min_item_per_user_thr:\n",
    "\n",
    "        print(\"**iteration\",count,\"starts!**\")\n",
    "        item_count=dataframe.groupby(\"song_id\").count().reset_index()\n",
    "        min_user_per_item=item_count[\"msno\"].min()\n",
    "        item_qualify=item_count[item_count[\"msno\"]>=min_user_per_item_thr]\n",
    "        item_list=item_qualify[\"song_id\"]\n",
    "        print(\"num of qualified items:\", len(item_list))\n",
    "\n",
    "        user_count=dataframe.groupby(\"msno\").count().reset_index()\n",
    "        min_item_per_user=user_count[\"song_id\"].min()\n",
    "        user_qualify=user_count[user_count[\"song_id\"]>=min_item_per_user_thr]\n",
    "        user_list=user_qualify[\"msno\"]\n",
    "        print(\"num of qualified users:\", len(user_list))\n",
    "        \n",
    "        dataframe=dataframe.loc[(dataframe['song_id'].isin(item_list))&(dataframe[\"msno\"].isin(user_list))]\n",
    "        count+=1\n",
    "   \n",
    "    return dataframe\n"
   ]
  },
  {
   "cell_type": "code",
   "execution_count": 27,
   "metadata": {},
   "outputs": [
    {
     "name": "stdout",
     "output_type": "stream",
     "text": [
      "**iteration 1 starts!**\n",
      "num of qualified items: 17878\n",
      "num of qualified users: 20543\n",
      "**iteration 2 starts!**\n",
      "num of qualified items: 17635\n",
      "num of qualified users: 19357\n",
      "**iteration 3 starts!**\n",
      "num of qualified items: 17385\n",
      "num of qualified users: 19341\n",
      "**iteration 4 starts!**\n",
      "num of qualified items: 17381\n",
      "num of qualified users: 19321\n",
      "**iteration 5 starts!**\n",
      "num of qualified items: 17378\n",
      "num of qualified users: 19320\n",
      "**iteration 6 starts!**\n",
      "num of qualified items: 17376\n",
      "num of qualified users: 19320\n"
     ]
    }
   ],
   "source": [
    "popular= popular_user_items(df,50,50)"
   ]
  },
  {
   "cell_type": "code",
   "execution_count": 31,
   "metadata": {},
   "outputs": [
    {
     "data": {
      "text/plain": [
       "(5571598, 12)"
      ]
     },
     "execution_count": 31,
     "metadata": {},
     "output_type": "execute_result"
    }
   ],
   "source": [
    "popular.shape"
   ]
  },
  {
   "cell_type": "code",
   "execution_count": 32,
   "metadata": {
    "collapsed": true
   },
   "outputs": [],
   "source": [
    "def sampling(data,perc_range):\n",
    "    item_set=data.song_id.unique().tolist()\n",
    "    user_set=data.msno.unique().tolist()\n",
    "    samples=[]\n",
    "    #construct a list of samples\n",
    "    for i in perc_range:\n",
    "        sample_from_user=random.sample(user_set, int(i*len(user_set)))\n",
    "        df_sample=data.loc[(data['msno'].isin(sample_from_user))]\n",
    "        samples.append(df_sample)\n",
    "    return samples"
   ]
  },
  {
   "cell_type": "code",
   "execution_count": 44,
   "metadata": {
    "collapsed": true
   },
   "outputs": [],
   "source": [
    "popular_list=sampling(popular,[0.065,0.1,0.25,0.5])\n",
    "normal_list=sampling(df,[.05,0.1,0.25,0.50])"
   ]
  },
  {
   "cell_type": "code",
   "execution_count": 45,
   "metadata": {
    "collapsed": true
   },
   "outputs": [],
   "source": [
    "df_normal=normal_list[0]\n",
    "df_popular=popular_list[0]"
   ]
  },
  {
   "cell_type": "code",
   "execution_count": 46,
   "metadata": {},
   "outputs": [
    {
     "data": {
      "text/plain": [
       "(360744, 12)"
      ]
     },
     "execution_count": 46,
     "metadata": {},
     "output_type": "execute_result"
    }
   ],
   "source": [
    "df_normal.shape"
   ]
  },
  {
   "cell_type": "code",
   "execution_count": 47,
   "metadata": {},
   "outputs": [
    {
     "data": {
      "text/plain": [
       "(363375, 12)"
      ]
     },
     "execution_count": 47,
     "metadata": {},
     "output_type": "execute_result"
    }
   ],
   "source": [
    "df_popular.shape"
   ]
  },
  {
   "cell_type": "code",
   "execution_count": 93,
   "metadata": {
    "collapsed": true
   },
   "outputs": [],
   "source": [
    "df_normal.to_pickle('/Users/serenazhang/Desktop/personalization project/project/Part II/df_normal')\n",
    "df_popular.to_pickle('/Users/serenazhang/Desktop/personalization project/project/Part II/df_popular')"
   ]
  },
  {
   "cell_type": "code",
   "execution_count": null,
   "metadata": {
    "collapsed": true
   },
   "outputs": [],
   "source": []
  }
 ],
 "metadata": {
  "kernelspec": {
   "display_name": "Python 3",
   "language": "python",
   "name": "python3"
  },
  "language_info": {
   "codemirror_mode": {
    "name": "ipython",
    "version": 3
   },
   "file_extension": ".py",
   "mimetype": "text/x-python",
   "name": "python",
   "nbconvert_exporter": "python",
   "pygments_lexer": "ipython3",
   "version": "3.6.1"
  }
 },
 "nbformat": 4,
 "nbformat_minor": 2
}
